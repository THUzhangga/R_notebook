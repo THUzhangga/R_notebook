{
 "cells": [
  {
   "cell_type": "markdown",
   "metadata": {},
   "source": [
    "# 第5章 高级数据处理"
   ]
  },
  {
   "cell_type": "markdown",
   "metadata": {},
   "source": [
    "## 数值和字符处理函数"
   ]
  },
  {
   "cell_type": "code",
   "execution_count": 2,
   "metadata": {},
   "outputs": [
    {
     "data": {
      "text/html": [
       "4"
      ],
      "text/latex": [
       "4"
      ],
      "text/markdown": [
       "4"
      ],
      "text/plain": [
       "[1] 4"
      ]
     },
     "metadata": {},
     "output_type": "display_data"
    },
    {
     "data": {
      "text/html": [
       "3"
      ],
      "text/latex": [
       "3"
      ],
      "text/markdown": [
       "3"
      ],
      "text/plain": [
       "[1] 3"
      ]
     },
     "metadata": {},
     "output_type": "display_data"
    },
    {
     "data": {
      "text/html": [
       "-3"
      ],
      "text/latex": [
       "-3"
      ],
      "text/markdown": [
       "-3"
      ],
      "text/plain": [
       "[1] -3"
      ]
     },
     "metadata": {},
     "output_type": "display_data"
    }
   ],
   "source": [
    "ceiling(3.14) # 不小于x的最小整数，天花板\n",
    "floor(3.14) # 不大于x的最大整数，地板\n",
    "trunc(-3.15) # 向0的整数部分"
   ]
  },
  {
   "cell_type": "code",
   "execution_count": 3,
   "metadata": {},
   "outputs": [
    {
     "data": {
      "text/html": [
       "50.5"
      ],
      "text/latex": [
       "50.5"
      ],
      "text/markdown": [
       "50.5"
      ],
      "text/plain": [
       "[1] 50.5"
      ]
     },
     "metadata": {},
     "output_type": "display_data"
    }
   ],
   "source": [
    "# 统计函数\n",
    "mean(seq(100), trim=0.05) # 截尾平均数"
   ]
  },
  {
   "cell_type": "code",
   "execution_count": 4,
   "metadata": {},
   "outputs": [
    {
     "data": {
      "text/html": [
       "<ol class=list-inline>\n",
       "\t<li>10</li>\n",
       "\t<li>10</li>\n",
       "\t<li>10</li>\n",
       "\t<li>10</li>\n",
       "\t<li>10</li>\n",
       "\t<li>10</li>\n",
       "\t<li>10</li>\n",
       "\t<li>10</li>\n",
       "\t<li>10</li>\n",
       "\t<li>10</li>\n",
       "\t<li>10</li>\n",
       "\t<li>10</li>\n",
       "\t<li>10</li>\n",
       "\t<li>10</li>\n",
       "\t<li>10</li>\n",
       "\t<li>10</li>\n",
       "\t<li>10</li>\n",
       "\t<li>10</li>\n",
       "\t<li>10</li>\n",
       "\t<li>10</li>\n",
       "\t<li>10</li>\n",
       "\t<li>10</li>\n",
       "\t<li>10</li>\n",
       "\t<li>10</li>\n",
       "\t<li>10</li>\n",
       "\t<li>10</li>\n",
       "\t<li>10</li>\n",
       "\t<li>10</li>\n",
       "\t<li>10</li>\n",
       "\t<li>10</li>\n",
       "\t<li>10</li>\n",
       "\t<li>10</li>\n",
       "\t<li>10</li>\n",
       "\t<li>10</li>\n",
       "\t<li>10</li>\n",
       "\t<li>10</li>\n",
       "\t<li>10</li>\n",
       "\t<li>10</li>\n",
       "\t<li>10</li>\n",
       "\t<li>10</li>\n",
       "\t<li>10</li>\n",
       "\t<li>10</li>\n",
       "\t<li>10</li>\n",
       "\t<li>10</li>\n",
       "\t<li>10</li>\n",
       "\t<li>10</li>\n",
       "\t<li>10</li>\n",
       "\t<li>10</li>\n",
       "\t<li>10</li>\n",
       "\t<li>10</li>\n",
       "\t<li>10</li>\n",
       "\t<li>10</li>\n",
       "\t<li>10</li>\n",
       "\t<li>10</li>\n",
       "\t<li>10</li>\n",
       "\t<li>10</li>\n",
       "\t<li>10</li>\n",
       "\t<li>10</li>\n",
       "\t<li>10</li>\n",
       "\t<li>10</li>\n",
       "\t<li>10</li>\n",
       "\t<li>10</li>\n",
       "\t<li>10</li>\n",
       "\t<li>10</li>\n",
       "\t<li>10</li>\n",
       "\t<li>10</li>\n",
       "\t<li>10</li>\n",
       "\t<li>10</li>\n",
       "\t<li>10</li>\n",
       "\t<li>10</li>\n",
       "\t<li>10</li>\n",
       "\t<li>10</li>\n",
       "\t<li>10</li>\n",
       "\t<li>10</li>\n",
       "\t<li>10</li>\n",
       "\t<li>10</li>\n",
       "\t<li>10</li>\n",
       "\t<li>10</li>\n",
       "\t<li>10</li>\n",
       "\t<li>10</li>\n",
       "\t<li>10</li>\n",
       "\t<li>10</li>\n",
       "\t<li>10</li>\n",
       "\t<li>10</li>\n",
       "\t<li>10</li>\n",
       "\t<li>10</li>\n",
       "\t<li>10</li>\n",
       "\t<li>10</li>\n",
       "\t<li>10</li>\n",
       "\t<li>10</li>\n",
       "</ol>\n"
      ],
      "text/latex": [
       "\\begin{enumerate*}\n",
       "\\item 10\n",
       "\\item 10\n",
       "\\item 10\n",
       "\\item 10\n",
       "\\item 10\n",
       "\\item 10\n",
       "\\item 10\n",
       "\\item 10\n",
       "\\item 10\n",
       "\\item 10\n",
       "\\item 10\n",
       "\\item 10\n",
       "\\item 10\n",
       "\\item 10\n",
       "\\item 10\n",
       "\\item 10\n",
       "\\item 10\n",
       "\\item 10\n",
       "\\item 10\n",
       "\\item 10\n",
       "\\item 10\n",
       "\\item 10\n",
       "\\item 10\n",
       "\\item 10\n",
       "\\item 10\n",
       "\\item 10\n",
       "\\item 10\n",
       "\\item 10\n",
       "\\item 10\n",
       "\\item 10\n",
       "\\item 10\n",
       "\\item 10\n",
       "\\item 10\n",
       "\\item 10\n",
       "\\item 10\n",
       "\\item 10\n",
       "\\item 10\n",
       "\\item 10\n",
       "\\item 10\n",
       "\\item 10\n",
       "\\item 10\n",
       "\\item 10\n",
       "\\item 10\n",
       "\\item 10\n",
       "\\item 10\n",
       "\\item 10\n",
       "\\item 10\n",
       "\\item 10\n",
       "\\item 10\n",
       "\\item 10\n",
       "\\item 10\n",
       "\\item 10\n",
       "\\item 10\n",
       "\\item 10\n",
       "\\item 10\n",
       "\\item 10\n",
       "\\item 10\n",
       "\\item 10\n",
       "\\item 10\n",
       "\\item 10\n",
       "\\item 10\n",
       "\\item 10\n",
       "\\item 10\n",
       "\\item 10\n",
       "\\item 10\n",
       "\\item 10\n",
       "\\item 10\n",
       "\\item 10\n",
       "\\item 10\n",
       "\\item 10\n",
       "\\item 10\n",
       "\\item 10\n",
       "\\item 10\n",
       "\\item 10\n",
       "\\item 10\n",
       "\\item 10\n",
       "\\item 10\n",
       "\\item 10\n",
       "\\item 10\n",
       "\\item 10\n",
       "\\item 10\n",
       "\\item 10\n",
       "\\item 10\n",
       "\\item 10\n",
       "\\item 10\n",
       "\\item 10\n",
       "\\item 10\n",
       "\\item 10\n",
       "\\item 10\n",
       "\\item 10\n",
       "\\end{enumerate*}\n"
      ],
      "text/markdown": [
       "1. 10\n",
       "2. 10\n",
       "3. 10\n",
       "4. 10\n",
       "5. 10\n",
       "6. 10\n",
       "7. 10\n",
       "8. 10\n",
       "9. 10\n",
       "10. 10\n",
       "11. 10\n",
       "12. 10\n",
       "13. 10\n",
       "14. 10\n",
       "15. 10\n",
       "16. 10\n",
       "17. 10\n",
       "18. 10\n",
       "19. 10\n",
       "20. 10\n",
       "21. 10\n",
       "22. 10\n",
       "23. 10\n",
       "24. 10\n",
       "25. 10\n",
       "26. 10\n",
       "27. 10\n",
       "28. 10\n",
       "29. 10\n",
       "30. 10\n",
       "31. 10\n",
       "32. 10\n",
       "33. 10\n",
       "34. 10\n",
       "35. 10\n",
       "36. 10\n",
       "37. 10\n",
       "38. 10\n",
       "39. 10\n",
       "40. 10\n",
       "41. 10\n",
       "42. 10\n",
       "43. 10\n",
       "44. 10\n",
       "45. 10\n",
       "46. 10\n",
       "47. 10\n",
       "48. 10\n",
       "49. 10\n",
       "50. 10\n",
       "51. 10\n",
       "52. 10\n",
       "53. 10\n",
       "54. 10\n",
       "55. 10\n",
       "56. 10\n",
       "57. 10\n",
       "58. 10\n",
       "59. 10\n",
       "60. 10\n",
       "61. 10\n",
       "62. 10\n",
       "63. 10\n",
       "64. 10\n",
       "65. 10\n",
       "66. 10\n",
       "67. 10\n",
       "68. 10\n",
       "69. 10\n",
       "70. 10\n",
       "71. 10\n",
       "72. 10\n",
       "73. 10\n",
       "74. 10\n",
       "75. 10\n",
       "76. 10\n",
       "77. 10\n",
       "78. 10\n",
       "79. 10\n",
       "80. 10\n",
       "81. 10\n",
       "82. 10\n",
       "83. 10\n",
       "84. 10\n",
       "85. 10\n",
       "86. 10\n",
       "87. 10\n",
       "88. 10\n",
       "89. 10\n",
       "90. 10\n",
       "\n",
       "\n"
      ],
      "text/plain": [
       " [1] 10 10 10 10 10 10 10 10 10 10 10 10 10 10 10 10 10 10 10 10 10 10 10 10 10\n",
       "[26] 10 10 10 10 10 10 10 10 10 10 10 10 10 10 10 10 10 10 10 10 10 10 10 10 10\n",
       "[51] 10 10 10 10 10 10 10 10 10 10 10 10 10 10 10 10 10 10 10 10 10 10 10 10 10\n",
       "[76] 10 10 10 10 10 10 10 10 10 10 10 10 10 10 10"
      ]
     },
     "metadata": {},
     "output_type": "display_data"
    }
   ],
   "source": [
    "diff(seq(100), lag=10) #滞后差分"
   ]
  },
  {
   "cell_type": "code",
   "execution_count": 6,
   "metadata": {},
   "outputs": [
    {
     "data": {
      "text/html": [
       "2.44948974278318"
      ],
      "text/latex": [
       "2.44948974278318"
      ],
      "text/markdown": [
       "2.44948974278318"
      ],
      "text/plain": [
       "[1] 2.44949"
      ]
     },
     "metadata": {},
     "output_type": "display_data"
    }
   ],
   "source": [
    "sd(seq(8))"
   ]
  },
  {
   "cell_type": "markdown",
   "metadata": {},
   "source": [
    "注意求$sd$的公式是：\n",
    "$$\n",
    "\\frac{\\sum_{i=1}^n(x_i-\\bar{x})^2}{n-1}\n",
    "$$"
   ]
  },
  {
   "cell_type": "code",
   "execution_count": 7,
   "metadata": {},
   "outputs": [
    {
     "data": {
      "text/html": [
       "<table>\n",
       "<tbody>\n",
       "\t<tr><td>-1.4863011</td></tr>\n",
       "\t<tr><td>-1.1560120</td></tr>\n",
       "\t<tr><td>-0.8257228</td></tr>\n",
       "\t<tr><td>-0.4954337</td></tr>\n",
       "\t<tr><td>-0.1651446</td></tr>\n",
       "\t<tr><td> 0.1651446</td></tr>\n",
       "\t<tr><td> 0.4954337</td></tr>\n",
       "\t<tr><td> 0.8257228</td></tr>\n",
       "\t<tr><td> 1.1560120</td></tr>\n",
       "\t<tr><td> 1.4863011</td></tr>\n",
       "</tbody>\n",
       "</table>\n"
      ],
      "text/latex": [
       "\\begin{tabular}{l}\n",
       "\t -1.4863011\\\\\n",
       "\t -1.1560120\\\\\n",
       "\t -0.8257228\\\\\n",
       "\t -0.4954337\\\\\n",
       "\t -0.1651446\\\\\n",
       "\t  0.1651446\\\\\n",
       "\t  0.4954337\\\\\n",
       "\t  0.8257228\\\\\n",
       "\t  1.1560120\\\\\n",
       "\t  1.4863011\\\\\n",
       "\\end{tabular}\n"
      ],
      "text/markdown": [
       "\n",
       "| -1.4863011 | \n",
       "| -1.1560120 | \n",
       "| -0.8257228 | \n",
       "| -0.4954337 | \n",
       "| -0.1651446 | \n",
       "|  0.1651446 | \n",
       "|  0.4954337 | \n",
       "|  0.8257228 | \n",
       "|  1.1560120 | \n",
       "|  1.4863011 | \n",
       "\n",
       "\n"
      ],
      "text/plain": [
       "      [,1]      \n",
       " [1,] -1.4863011\n",
       " [2,] -1.1560120\n",
       " [3,] -0.8257228\n",
       " [4,] -0.4954337\n",
       " [5,] -0.1651446\n",
       " [6,]  0.1651446\n",
       " [7,]  0.4954337\n",
       " [8,]  0.8257228\n",
       " [9,]  1.1560120\n",
       "[10,]  1.4863011"
      ]
     },
     "metadata": {},
     "output_type": "display_data"
    }
   ],
   "source": [
    "# 数据的标准化\n",
    "newdata <- scale(seq(10)) # 默认变成均值为0，标准差为1\n",
    "newdata"
   ]
  },
  {
   "cell_type": "markdown",
   "metadata": {},
   "source": [
    "### 概率函数\n",
    "各种分布都有：注意\n",
    "* d: desity\n",
    "* p: distribution function\n",
    "* q: qunatile function\n",
    "* r: random"
   ]
  },
  {
   "cell_type": "code",
   "execution_count": 11,
   "metadata": {},
   "outputs": [
    {
     "data": {
      "image/png": "[encoded data removed]",
      "text/plain": [
       "plot without title"
      ]
     },
     "metadata": {},
     "output_type": "display_data"
    }
   ],
   "source": [
    "x <- pretty(c(-3,3), 30)\n",
    "y <- dnorm(x)\n",
    "plot(x, y,\n",
    "    type=\"l\",\n",
    "    xlab=\"NormalDeviate\",\n",
    "    ylab=\"Density\",\n",
    "    yaxs=\"i\")"
   ]
  },
  {
   "cell_type": "code",
   "execution_count": 16,
   "metadata": {},
   "outputs": [
    {
     "data": {
      "text/html": [
       "0.97500210485178"
      ],
      "text/latex": [
       "0.97500210485178"
      ],
      "text/markdown": [
       "0.97500210485178"
      ],
      "text/plain": [
       "[1] 0.9750021"
      ]
     },
     "metadata": {},
     "output_type": "display_data"
    },
    {
     "data": {
      "text/html": [
       "668.910139800437"
      ],
      "text/latex": [
       "668.910139800437"
      ],
      "text/markdown": [
       "668.910139800437"
      ],
      "text/plain": [
       "[1] 668.9101"
      ]
     },
     "metadata": {},
     "output_type": "display_data"
    },
    {
     "data": {
      "text/html": [
       "<ol class=list-inline>\n",
       "\t<li>50.6562138533458</li>\n",
       "\t<li>57.7773758066309</li>\n",
       "\t<li>59.9922752297826</li>\n",
       "\t<li>66.0612885277424</li>\n",
       "\t<li>42.9781842119965</li>\n",
       "\t<li>38.7785436387725</li>\n",
       "\t<li>62.672539174837</li>\n",
       "\t<li>46.7853133247072</li>\n",
       "\t<li>41.4437912578488</li>\n",
       "\t<li>52.5421209624784</li>\n",
       "\t<li>57.8077433007445</li>\n",
       "\t<li>46.9839820635238</li>\n",
       "\t<li>58.3675486699241</li>\n",
       "\t<li>51.3266753764829</li>\n",
       "\t<li>40.8737737726927</li>\n",
       "\t<li>53.6440385068534</li>\n",
       "\t<li>47.014256688254</li>\n",
       "\t<li>50.6728683259478</li>\n",
       "\t<li>59.6535654785162</li>\n",
       "\t<li>68.1074203608591</li>\n",
       "\t<li>56.6149646307473</li>\n",
       "\t<li>34.1371805807314</li>\n",
       "\t<li>43.0218441830202</li>\n",
       "\t<li>46.6132433824059</li>\n",
       "\t<li>51.5507080589307</li>\n",
       "\t<li>60.7046205921338</li>\n",
       "\t<li>40.9192718338375</li>\n",
       "\t<li>61.2206535881714</li>\n",
       "\t<li>47.8111005238354</li>\n",
       "\t<li>61.0379563691543</li>\n",
       "\t<li>51.2785484171811</li>\n",
       "\t<li>43.5902841584547</li>\n",
       "\t<li>55.2963836253988</li>\n",
       "\t<li>47.7274792879844</li>\n",
       "\t<li>53.9842984854793</li>\n",
       "\t<li>60.3937208924696</li>\n",
       "\t<li>65.3397269199287</li>\n",
       "\t<li>49.5868995367771</li>\n",
       "\t<li>52.8656430357868</li>\n",
       "\t<li>63.3523610964989</li>\n",
       "\t<li>66.118281067467</li>\n",
       "\t<li>55.7094000797182</li>\n",
       "\t<li>51.2602683734361</li>\n",
       "\t<li>41.6920097988508</li>\n",
       "\t<li>43.10324259246</li>\n",
       "\t<li>65.9053444313445</li>\n",
       "\t<li>50.8841555878638</li>\n",
       "\t<li>44.093095885451</li>\n",
       "\t<li>57.2917518435838</li>\n",
       "\t<li>58.2758019479209</li>\n",
       "</ol>\n"
      ],
      "text/latex": [
       "\\begin{enumerate*}\n",
       "\\item 50.6562138533458\n",
       "\\item 57.7773758066309\n",
       "\\item 59.9922752297826\n",
       "\\item 66.0612885277424\n",
       "\\item 42.9781842119965\n",
       "\\item 38.7785436387725\n",
       "\\item 62.672539174837\n",
       "\\item 46.7853133247072\n",
       "\\item 41.4437912578488\n",
       "\\item 52.5421209624784\n",
       "\\item 57.8077433007445\n",
       "\\item 46.9839820635238\n",
       "\\item 58.3675486699241\n",
       "\\item 51.3266753764829\n",
       "\\item 40.8737737726927\n",
       "\\item 53.6440385068534\n",
       "\\item 47.014256688254\n",
       "\\item 50.6728683259478\n",
       "\\item 59.6535654785162\n",
       "\\item 68.1074203608591\n",
       "\\item 56.6149646307473\n",
       "\\item 34.1371805807314\n",
       "\\item 43.0218441830202\n",
       "\\item 46.6132433824059\n",
       "\\item 51.5507080589307\n",
       "\\item 60.7046205921338\n",
       "\\item 40.9192718338375\n",
       "\\item 61.2206535881714\n",
       "\\item 47.8111005238354\n",
       "\\item 61.0379563691543\n",
       "\\item 51.2785484171811\n",
       "\\item 43.5902841584547\n",
       "\\item 55.2963836253988\n",
       "\\item 47.7274792879844\n",
       "\\item 53.9842984854793\n",
       "\\item 60.3937208924696\n",
       "\\item 65.3397269199287\n",
       "\\item 49.5868995367771\n",
       "\\item 52.8656430357868\n",
       "\\item 63.3523610964989\n",
       "\\item 66.118281067467\n",
       "\\item 55.7094000797182\n",
       "\\item 51.2602683734361\n",
       "\\item 41.6920097988508\n",
       "\\item 43.10324259246\n",
       "\\item 65.9053444313445\n",
       "\\item 50.8841555878638\n",
       "\\item 44.093095885451\n",
       "\\item 57.2917518435838\n",
       "\\item 58.2758019479209\n",
       "\\end{enumerate*}\n"
      ],
      "text/markdown": [
       "1. 50.6562138533458\n",
       "2. 57.7773758066309\n",
       "3. 59.9922752297826\n",
       "4. 66.0612885277424\n",
       "5. 42.9781842119965\n",
       "6. 38.7785436387725\n",
       "7. 62.672539174837\n",
       "8. 46.7853133247072\n",
       "9. 41.4437912578488\n",
       "10. 52.5421209624784\n",
       "11. 57.8077433007445\n",
       "12. 46.9839820635238\n",
       "13. 58.3675486699241\n",
       "14. 51.3266753764829\n",
       "15. 40.8737737726927\n",
       "16. 53.6440385068534\n",
       "17. 47.014256688254\n",
       "18. 50.6728683259478\n",
       "19. 59.6535654785162\n",
       "20. 68.1074203608591\n",
       "21. 56.6149646307473\n",
       "22. 34.1371805807314\n",
       "23. 43.0218441830202\n",
       "24. 46.6132433824059\n",
       "25. 51.5507080589307\n",
       "26. 60.7046205921338\n",
       "27. 40.9192718338375\n",
       "28. 61.2206535881714\n",
       "29. 47.8111005238354\n",
       "30. 61.0379563691543\n",
       "31. 51.2785484171811\n",
       "32. 43.5902841584547\n",
       "33. 55.2963836253988\n",
       "34. 47.7274792879844\n",
       "35. 53.9842984854793\n",
       "36. 60.3937208924696\n",
       "37. 65.3397269199287\n",
       "38. 49.5868995367771\n",
       "39. 52.8656430357868\n",
       "40. 63.3523610964989\n",
       "41. 66.118281067467\n",
       "42. 55.7094000797182\n",
       "43. 51.2602683734361\n",
       "44. 41.6920097988508\n",
       "45. 43.10324259246\n",
       "46. 65.9053444313445\n",
       "47. 50.8841555878638\n",
       "48. 44.093095885451\n",
       "49. 57.2917518435838\n",
       "50. 58.2758019479209\n",
       "\n",
       "\n"
      ],
      "text/plain": [
       " [1] 50.65621 57.77738 59.99228 66.06129 42.97818 38.77854 62.67254 46.78531\n",
       " [9] 41.44379 52.54212 57.80774 46.98398 58.36755 51.32668 40.87377 53.64404\n",
       "[17] 47.01426 50.67287 59.65357 68.10742 56.61496 34.13718 43.02184 46.61324\n",
       "[25] 51.55071 60.70462 40.91927 61.22065 47.81110 61.03796 51.27855 43.59028\n",
       "[33] 55.29638 47.72748 53.98430 60.39372 65.33973 49.58690 52.86564 63.35236\n",
       "[41] 66.11828 55.70940 51.26027 41.69201 43.10324 65.90534 50.88416 44.09310\n",
       "[49] 57.29175 58.27580"
      ]
     },
     "metadata": {},
     "output_type": "display_data"
    }
   ],
   "source": [
    "pnorm(1.96)\n",
    "qnorm(.9544, mean=500, sd=100)\n",
    "rnorm(50, mean=50, sd=10)"
   ]
  },
  {
   "cell_type": "code",
   "execution_count": 18,
   "metadata": {},
   "outputs": [
    {
     "data": {
      "text/html": [
       "<ol class=list-inline>\n",
       "\t<li>0.44823775626719</li>\n",
       "\t<li>0.630340717965737</li>\n",
       "\t<li>0.90612786449492</li>\n",
       "\t<li>0.332444782368839</li>\n",
       "\t<li>0.400328948860988</li>\n",
       "</ol>\n"
      ],
      "text/latex": [
       "\\begin{enumerate*}\n",
       "\\item 0.44823775626719\n",
       "\\item 0.630340717965737\n",
       "\\item 0.90612786449492\n",
       "\\item 0.332444782368839\n",
       "\\item 0.400328948860988\n",
       "\\end{enumerate*}\n"
      ],
      "text/markdown": [
       "1. 0.44823775626719\n",
       "2. 0.630340717965737\n",
       "3. 0.90612786449492\n",
       "4. 0.332444782368839\n",
       "5. 0.400328948860988\n",
       "\n",
       "\n"
      ],
      "text/plain": [
       "[1] 0.4482378 0.6303407 0.9061279 0.3324448 0.4003289"
      ]
     },
     "metadata": {},
     "output_type": "display_data"
    },
    {
     "data": {
      "text/html": [
       "<ol class=list-inline>\n",
       "\t<li>0.113703411305323</li>\n",
       "\t<li>0.622299404814839</li>\n",
       "\t<li>0.609274732880294</li>\n",
       "\t<li>0.623379441676661</li>\n",
       "\t<li>0.860915383556858</li>\n",
       "</ol>\n"
      ],
      "text/latex": [
       "\\begin{enumerate*}\n",
       "\\item 0.113703411305323\n",
       "\\item 0.622299404814839\n",
       "\\item 0.609274732880294\n",
       "\\item 0.623379441676661\n",
       "\\item 0.860915383556858\n",
       "\\end{enumerate*}\n"
      ],
      "text/markdown": [
       "1. 0.113703411305323\n",
       "2. 0.622299404814839\n",
       "3. 0.609274732880294\n",
       "4. 0.623379441676661\n",
       "5. 0.860915383556858\n",
       "\n",
       "\n"
      ],
      "text/plain": [
       "[1] 0.1137034 0.6222994 0.6092747 0.6233794 0.8609154"
      ]
     },
     "metadata": {},
     "output_type": "display_data"
    },
    {
     "data": {
      "text/html": [
       "<ol class=list-inline>\n",
       "\t<li>0.113703411305323</li>\n",
       "\t<li>0.622299404814839</li>\n",
       "\t<li>0.609274732880294</li>\n",
       "\t<li>0.623379441676661</li>\n",
       "\t<li>0.860915383556858</li>\n",
       "</ol>\n"
      ],
      "text/latex": [
       "\\begin{enumerate*}\n",
       "\\item 0.113703411305323\n",
       "\\item 0.622299404814839\n",
       "\\item 0.609274732880294\n",
       "\\item 0.623379441676661\n",
       "\\item 0.860915383556858\n",
       "\\end{enumerate*}\n"
      ],
      "text/markdown": [
       "1. 0.113703411305323\n",
       "2. 0.622299404814839\n",
       "3. 0.609274732880294\n",
       "4. 0.623379441676661\n",
       "5. 0.860915383556858\n",
       "\n",
       "\n"
      ],
      "text/plain": [
       "[1] 0.1137034 0.6222994 0.6092747 0.6233794 0.8609154"
      ]
     },
     "metadata": {},
     "output_type": "display_data"
    }
   ],
   "source": [
    "# 设定随机数种子\n",
    "runif(5) #生成0-1均匀分布的伪随机数\n",
    "set.seed(1234)\n",
    "runif(5)\n",
    "set.seed(1234)\n",
    "runif(5)"
   ]
  },
  {
   "cell_type": "code",
   "execution_count": 29,
   "metadata": {},
   "outputs": [
    {
     "data": {
      "text/html": [
       "<table>\n",
       "<thead><tr><th scope=col>y</th><th scope=col>x1</th><th scope=col>x2</th></tr></thead>\n",
       "<tbody>\n",
       "\t<tr><td> 98.8</td><td> 41.3</td><td>3.43 </td></tr>\n",
       "\t<tr><td>244.5</td><td>205.2</td><td>3.80 </td></tr>\n",
       "\t<tr><td>375.7</td><td>186.7</td><td>2.51 </td></tr>\n",
       "\t<tr><td>-59.2</td><td> 11.2</td><td>4.71 </td></tr>\n",
       "\t<tr><td>313.0</td><td>111.0</td><td>3.45 </td></tr>\n",
       "\t<tr><td>288.8</td><td>185.1</td><td>2.72 </td></tr>\n",
       "</tbody>\n",
       "</table>\n"
      ],
      "text/latex": [
       "\\begin{tabular}{r|lll}\n",
       " y & x1 & x2\\\\\n",
       "\\hline\n",
       "\t  98.8 &  41.3 & 3.43 \\\\\n",
       "\t 244.5 & 205.2 & 3.80 \\\\\n",
       "\t 375.7 & 186.7 & 2.51 \\\\\n",
       "\t -59.2 &  11.2 & 4.71 \\\\\n",
       "\t 313.0 & 111.0 & 3.45 \\\\\n",
       "\t 288.8 & 185.1 & 2.72 \\\\\n",
       "\\end{tabular}\n"
      ],
      "text/markdown": [
       "\n",
       "y | x1 | x2 | \n",
       "|---|---|---|---|---|---|\n",
       "|  98.8 |  41.3 | 3.43  | \n",
       "| 244.5 | 205.2 | 3.80  | \n",
       "| 375.7 | 186.7 | 2.51  | \n",
       "| -59.2 |  11.2 | 4.71  | \n",
       "| 313.0 | 111.0 | 3.45  | \n",
       "| 288.8 | 185.1 | 2.72  | \n",
       "\n",
       "\n"
      ],
      "text/plain": [
       "  y     x1    x2  \n",
       "1  98.8  41.3 3.43\n",
       "2 244.5 205.2 3.80\n",
       "3 375.7 186.7 2.51\n",
       "4 -59.2  11.2 4.71\n",
       "5 313.0 111.0 3.45\n",
       "6 288.8 185.1 2.72"
      ]
     },
     "metadata": {},
     "output_type": "display_data"
    }
   ],
   "source": [
    "# 生成服从多元正态分布的数据\n",
    "library(MASS)\n",
    "options(digits = 3)\n",
    "set.seed(1234)\n",
    "mean <- c(230.7, 146.7, 3.6)\n",
    "sigma <- matrix(c(15360.8, 6721.2, -47.1,\n",
    "                 6721.2, 4700.9, -16.5,\n",
    "                 -47.1, -16.5, 0.3), nrow=3, ncol=3)\n",
    "mydata <- mvrnorm(500, mean, sigma)\n",
    "# mydata\n",
    "mydata <- as.data.frame(mydata) # 转成dataframe\n",
    "names(mydata) <- c('y', 'x1', 'x2')\n",
    "head(mydata) # 生成模拟数据"
   ]
  },
  {
   "cell_type": "code",
   "execution_count": 44,
   "metadata": {},
   "outputs": [
    {
     "data": {
      "text/html": [
       "<ol class=list-inline>\n",
       "\t<li>1</li>\n",
       "\t<li>3</li>\n",
       "</ol>\n"
      ],
      "text/latex": [
       "\\begin{enumerate*}\n",
       "\\item 1\n",
       "\\item 3\n",
       "\\end{enumerate*}\n"
      ],
      "text/markdown": [
       "1. 1\n",
       "2. 3\n",
       "\n",
       "\n"
      ],
      "text/plain": [
       "[1] 1 3"
      ]
     },
     "metadata": {},
     "output_type": "display_data"
    }
   ],
   "source": [
    "# 字符处理函数\n",
    "a = c(\"too young too simple江泽民\", 'h', '蛤')\n",
    "grep('[\\u4e00-\\u9fa5]', a, fixed=FALSE) # 用正则表达式匹配中文"
   ]
  },
  {
   "cell_type": "code",
   "execution_count": 46,
   "metadata": {},
   "outputs": [
    {
     "data": {
      "text/html": [
       "<ol>\n",
       "\t<li><ol class=list-inline>\n",
       "\t<li>''</li>\n",
       "\t<li>'oo young '</li>\n",
       "\t<li>'oo simple江泽民'</li>\n",
       "</ol>\n",
       "</li>\n",
       "\t<li>'h'</li>\n",
       "\t<li>'蛤'</li>\n",
       "</ol>\n"
      ],
      "text/latex": [
       "\\begin{enumerate}\n",
       "\\item \\begin{enumerate*}\n",
       "\\item ''\n",
       "\\item 'oo young '\n",
       "\\item 'oo simple江泽民'\n",
       "\\end{enumerate*}\n",
       "\n",
       "\\item 'h'\n",
       "\\item '蛤'\n",
       "\\end{enumerate}\n"
      ],
      "text/markdown": [
       "1. 1. ''\n",
       "2. 'oo young '\n",
       "3. 'oo simple江泽民'\n",
       "\n",
       "\n",
       "\n",
       "2. 'h'\n",
       "3. '蛤'\n",
       "\n",
       "\n"
      ],
      "text/plain": [
       "[[1]]\n",
       "[1] \"\"                \"oo young \"       \"oo simple江泽民\"\n",
       "\n",
       "[[2]]\n",
       "[1] \"h\"\n",
       "\n",
       "[[3]]\n",
       "[1] \"蛤\"\n"
      ]
     },
     "metadata": {},
     "output_type": "display_data"
    }
   ],
   "source": [
    "strsplit(a, split = 't') # 字符串切割"
   ]
  },
  {
   "cell_type": "code",
   "execution_count": 5,
   "metadata": {},
   "outputs": [
    {
     "data": {
      "text/html": [
       "4"
      ],
      "text/latex": [
       "4"
      ],
      "text/markdown": [
       "4"
      ],
      "text/plain": [
       "[1] 4"
      ]
     },
     "metadata": {},
     "output_type": "display_data"
    },
    {
     "data": {
      "text/html": [
       "<ol class=list-inline>\n",
       "\t<li>1</li>\n",
       "\t<li>3</li>\n",
       "\t<li>5</li>\n",
       "\t<li>7</li>\n",
       "\t<li>9</li>\n",
       "</ol>\n"
      ],
      "text/latex": [
       "\\begin{enumerate*}\n",
       "\\item 1\n",
       "\\item 3\n",
       "\\item 5\n",
       "\\item 7\n",
       "\\item 9\n",
       "\\end{enumerate*}\n"
      ],
      "text/markdown": [
       "1. 1\n",
       "2. 3\n",
       "3. 5\n",
       "4. 7\n",
       "5. 9\n",
       "\n",
       "\n"
      ],
      "text/plain": [
       "[1] 1 3 5 7 9"
      ]
     },
     "metadata": {},
     "output_type": "display_data"
    },
    {
     "data": {
      "text/html": [
       "<ol class=list-inline>\n",
       "\t<li>1</li>\n",
       "\t<li>2</li>\n",
       "\t<li>3</li>\n",
       "\t<li>1</li>\n",
       "\t<li>2</li>\n",
       "\t<li>3</li>\n",
       "</ol>\n"
      ],
      "text/latex": [
       "\\begin{enumerate*}\n",
       "\\item 1\n",
       "\\item 2\n",
       "\\item 3\n",
       "\\item 1\n",
       "\\item 2\n",
       "\\item 3\n",
       "\\end{enumerate*}\n"
      ],
      "text/markdown": [
       "1. 1\n",
       "2. 2\n",
       "3. 3\n",
       "4. 1\n",
       "5. 2\n",
       "6. 3\n",
       "\n",
       "\n"
      ],
      "text/plain": [
       "[1] 1 2 3 1 2 3"
      ]
     },
     "metadata": {},
     "output_type": "display_data"
    },
    {
     "data": {
      "text/html": [
       "<ol class=list-inline>\n",
       "\t<li>(0.991,2]</li>\n",
       "\t<li>(0.991,2]</li>\n",
       "\t<li>(2,3]</li>\n",
       "\t<li>(3,4]</li>\n",
       "\t<li>(4,5]</li>\n",
       "\t<li>(5,6]</li>\n",
       "\t<li>(6,7]</li>\n",
       "\t<li>(7,8]</li>\n",
       "\t<li>(8,9]</li>\n",
       "\t<li>(9,10]</li>\n",
       "</ol>\n"
      ],
      "text/latex": [
       "\\begin{enumerate*}\n",
       "\\item (0.991,2{]}\n",
       "\\item (0.991,2{]}\n",
       "\\item (2,3{]}\n",
       "\\item (3,4{]}\n",
       "\\item (4,5{]}\n",
       "\\item (5,6{]}\n",
       "\\item (6,7{]}\n",
       "\\item (7,8{]}\n",
       "\\item (8,9{]}\n",
       "\\item (9,10{]}\n",
       "\\end{enumerate*}\n"
      ],
      "text/markdown": [
       "1. (0.991,2]\n",
       "2. (0.991,2]\n",
       "3. (2,3]\n",
       "4. (3,4]\n",
       "5. (4,5]\n",
       "6. (5,6]\n",
       "7. (6,7]\n",
       "8. (7,8]\n",
       "9. (8,9]\n",
       "10. (9,10]\n",
       "\n",
       "\n"
      ],
      "text/plain": [
       " [1] (0.991,2] (0.991,2] (2,3]     (3,4]     (4,5]     (5,6]     (6,7]    \n",
       " [8] (7,8]     (8,9]     (9,10]   \n",
       "Levels: (0.991,2] (2,3] (3,4] (4,5] (5,6] (6,7] (7,8] (8,9] (9,10]"
      ]
     },
     "metadata": {},
     "output_type": "display_data"
    },
    {
     "data": {
      "text/html": [
       "<ol class=list-inline>\n",
       "\t<li>0</li>\n",
       "\t<li>2</li>\n",
       "\t<li>4</li>\n",
       "\t<li>6</li>\n",
       "\t<li>8</li>\n",
       "\t<li>10</li>\n",
       "</ol>\n"
      ],
      "text/latex": [
       "\\begin{enumerate*}\n",
       "\\item 0\n",
       "\\item 2\n",
       "\\item 4\n",
       "\\item 6\n",
       "\\item 8\n",
       "\\item 10\n",
       "\\end{enumerate*}\n"
      ],
      "text/markdown": [
       "1. 0\n",
       "2. 2\n",
       "3. 4\n",
       "4. 6\n",
       "5. 8\n",
       "6. 10\n",
       "\n",
       "\n"
      ],
      "text/plain": [
       "[1]  0  2  4  6  8 10"
      ]
     },
     "metadata": {},
     "output_type": "display_data"
    }
   ],
   "source": [
    "length(c(1,2,3,4))\n",
    "seq(1,10,2)\n",
    "rep(1:3,2)\n",
    "cut(seq(10), 9) # 将连续型变量x分割成有n个水平的因子，也就是分组\n",
    "pretty(seq(10), 4) # 创建美观的分割点\n"
   ]
  },
  {
   "cell_type": "code",
   "execution_count": 10,
   "metadata": {},
   "outputs": [
    {
     "data": {
      "text/html": [
       "<table>\n",
       "<tbody>\n",
       "\t<tr><td>-0.52187778</td><td>-0.08736959</td><td>-1.45042189</td><td>-0.0432104 </td></tr>\n",
       "\t<tr><td>-0.47082527</td><td>-0.02940921</td><td>-0.05720386</td><td>-0.6227232 </td></tr>\n",
       "\t<tr><td>-0.02454391</td><td>-2.23646166</td><td>-1.65413322</td><td>-1.0133182 </td></tr>\n",
       "</tbody>\n",
       "</table>\n"
      ],
      "text/latex": [
       "\\begin{tabular}{llll}\n",
       "\t -0.52187778 & -0.08736959 & -1.45042189 & -0.0432104 \\\\\n",
       "\t -0.47082527 & -0.02940921 & -0.05720386 & -0.6227232 \\\\\n",
       "\t -0.02454391 & -2.23646166 & -1.65413322 & -1.0133182 \\\\\n",
       "\\end{tabular}\n"
      ],
      "text/markdown": [
       "\n",
       "| -0.52187778 | -0.08736959 | -1.45042189 | -0.0432104  | \n",
       "| -0.47082527 | -0.02940921 | -0.05720386 | -0.6227232  | \n",
       "| -0.02454391 | -2.23646166 | -1.65413322 | -1.0133182  | \n",
       "\n",
       "\n"
      ],
      "text/plain": [
       "     [,1]        [,2]        [,3]        [,4]      \n",
       "[1,] -0.52187778 -0.08736959 -1.45042189 -0.0432104\n",
       "[2,] -0.47082527 -0.02940921 -0.05720386 -0.6227232\n",
       "[3,] -0.02454391 -2.23646166 -1.65413322 -1.0133182"
      ]
     },
     "metadata": {},
     "output_type": "display_data"
    }
   ],
   "source": [
    "# R函数自带多态\n",
    "# 可以用于scalar, vector, matrix, array and dataframe\n",
    "c <- matrix(runif(12), nrow=3)\n",
    "log(c)"
   ]
  },
  {
   "cell_type": "code",
   "execution_count": 17,
   "metadata": {},
   "outputs": [
    {
     "data": {
      "text/html": [
       "<ol class=list-inline>\n",
       "\t<li>-0.817790306272895</li>\n",
       "\t<li>0.152577294341122</li>\n",
       "\t<li>0.437665435522661</li>\n",
       "\t<li>-0.97207252914381</li>\n",
       "\t<li>-0.20295273789331</li>\n",
       "\t<li>-0.375977025898896</li>\n",
       "</ol>\n"
      ],
      "text/latex": [
       "\\begin{enumerate*}\n",
       "\\item -0.817790306272895\n",
       "\\item 0.152577294341122\n",
       "\\item 0.437665435522661\n",
       "\\item -0.97207252914381\n",
       "\\item -0.20295273789331\n",
       "\\item -0.375977025898896\n",
       "\\end{enumerate*}\n"
      ],
      "text/markdown": [
       "1. -0.817790306272895\n",
       "2. 0.152577294341122\n",
       "3. 0.437665435522661\n",
       "4. -0.97207252914381\n",
       "5. -0.20295273789331\n",
       "6. -0.375977025898896\n",
       "\n",
       "\n"
      ],
      "text/plain": [
       "[1] -0.8177903  0.1525773  0.4376654 -0.9720725 -0.2029527 -0.3759770"
      ]
     },
     "metadata": {},
     "output_type": "display_data"
    },
    {
     "data": {
      "text/html": [
       "<ol class=list-inline>\n",
       "\t<li>-1.25571245225243</li>\n",
       "\t<li>-4.05144078866947</li>\n",
       "\t<li>-1.28479143521818</li>\n",
       "\t<li>1.24110739033412</li>\n",
       "\t<li>-3.54191206091967</li>\n",
       "</ol>\n"
      ],
      "text/latex": [
       "\\begin{enumerate*}\n",
       "\\item -1.25571245225243\n",
       "\\item -4.05144078866947\n",
       "\\item -1.28479143521818\n",
       "\\item 1.24110739033412\n",
       "\\item -3.54191206091967\n",
       "\\end{enumerate*}\n"
      ],
      "text/markdown": [
       "1. -1.25571245225243\n",
       "2. -4.05144078866947\n",
       "3. -1.28479143521818\n",
       "4. 1.24110739033412\n",
       "5. -3.54191206091967\n",
       "\n",
       "\n"
      ],
      "text/plain": [
       "[1] -1.255712 -4.051441 -1.284791  1.241107 -3.541912"
      ]
     },
     "metadata": {},
     "output_type": "display_data"
    }
   ],
   "source": [
    "# apply函数\n",
    "set.seed(1234)\n",
    "mydata <- matrix(rnorm(30), nrow = 6)\n",
    "apply(mydata, 1, mean) # 行均值\n",
    "apply(mydata, 2, sum) # 列求和"
   ]
  },
  {
   "cell_type": "code",
   "execution_count": 19,
   "metadata": {},
   "outputs": [
    {
     "data": {
      "text/html": [
       "<table>\n",
       "<thead><tr><th scope=col>Student</th><th scope=col>Math</th><th scope=col>Science</th><th scope=col>English</th></tr></thead>\n",
       "<tbody>\n",
       "\t<tr><td>John Davis       </td><td>502              </td><td>95               </td><td>25               </td></tr>\n",
       "\t<tr><td>Angela Williams  </td><td>600              </td><td>99               </td><td>22               </td></tr>\n",
       "\t<tr><td>Bullwinkle Moose </td><td>412              </td><td>80               </td><td>18               </td></tr>\n",
       "\t<tr><td>David Jones      </td><td>358              </td><td>82               </td><td>15               </td></tr>\n",
       "\t<tr><td>Janice Markhammer</td><td>495              </td><td>75               </td><td>20               </td></tr>\n",
       "\t<tr><td>Cheryl Cushing   </td><td>512              </td><td>85               </td><td>28               </td></tr>\n",
       "\t<tr><td>Reuven Ytzrhak   </td><td>410              </td><td>80               </td><td>15               </td></tr>\n",
       "\t<tr><td>Greg Knox        </td><td>625              </td><td>95               </td><td>30               </td></tr>\n",
       "\t<tr><td>Joel England     </td><td>573              </td><td>89               </td><td>27               </td></tr>\n",
       "\t<tr><td>Mary Rayburn     </td><td>522              </td><td>86               </td><td>18               </td></tr>\n",
       "</tbody>\n",
       "</table>\n"
      ],
      "text/latex": [
       "\\begin{tabular}{r|llll}\n",
       " Student & Math & Science & English\\\\\n",
       "\\hline\n",
       "\t John Davis        & 502               & 95                & 25               \\\\\n",
       "\t Angela Williams   & 600               & 99                & 22               \\\\\n",
       "\t Bullwinkle Moose  & 412               & 80                & 18               \\\\\n",
       "\t David Jones       & 358               & 82                & 15               \\\\\n",
       "\t Janice Markhammer & 495               & 75                & 20               \\\\\n",
       "\t Cheryl Cushing    & 512               & 85                & 28               \\\\\n",
       "\t Reuven Ytzrhak    & 410               & 80                & 15               \\\\\n",
       "\t Greg Knox         & 625               & 95                & 30               \\\\\n",
       "\t Joel England      & 573               & 89                & 27               \\\\\n",
       "\t Mary Rayburn      & 522               & 86                & 18               \\\\\n",
       "\\end{tabular}\n"
      ],
      "text/markdown": [
       "\n",
       "Student | Math | Science | English | \n",
       "|---|---|---|---|---|---|---|---|---|---|\n",
       "| John Davis        | 502               | 95                | 25                | \n",
       "| Angela Williams   | 600               | 99                | 22                | \n",
       "| Bullwinkle Moose  | 412               | 80                | 18                | \n",
       "| David Jones       | 358               | 82                | 15                | \n",
       "| Janice Markhammer | 495               | 75                | 20                | \n",
       "| Cheryl Cushing    | 512               | 85                | 28                | \n",
       "| Reuven Ytzrhak    | 410               | 80                | 15                | \n",
       "| Greg Knox         | 625               | 95                | 30                | \n",
       "| Joel England      | 573               | 89                | 27                | \n",
       "| Mary Rayburn      | 522               | 86                | 18                | \n",
       "\n",
       "\n"
      ],
      "text/plain": [
       "   Student           Math Science English\n",
       "1  John Davis        502  95      25     \n",
       "2  Angela Williams   600  99      22     \n",
       "3  Bullwinkle Moose  412  80      18     \n",
       "4  David Jones       358  82      15     \n",
       "5  Janice Markhammer 495  75      20     \n",
       "6  Cheryl Cushing    512  85      28     \n",
       "7  Reuven Ytzrhak    410  80      15     \n",
       "8  Greg Knox         625  95      30     \n",
       "9  Joel England      573  89      27     \n",
       "10 Mary Rayburn      522  86      18     "
      ]
     },
     "metadata": {},
     "output_type": "display_data"
    },
    {
     "data": {
      "text/html": [
       "<table>\n",
       "<thead><tr><th scope=col>Math</th><th scope=col>Science</th><th scope=col>English</th></tr></thead>\n",
       "<tbody>\n",
       "\t<tr><td> 0.013</td><td> 1.078</td><td> 0.587</td></tr>\n",
       "\t<tr><td> 1.143</td><td> 1.591</td><td> 0.037</td></tr>\n",
       "\t<tr><td>-1.026</td><td>-0.847</td><td>-0.697</td></tr>\n",
       "\t<tr><td>-1.649</td><td>-0.590</td><td>-1.247</td></tr>\n",
       "\t<tr><td>-0.068</td><td>-1.489</td><td>-0.330</td></tr>\n",
       "\t<tr><td> 0.128</td><td>-0.205</td><td> 1.137</td></tr>\n",
       "\t<tr><td>-1.049</td><td>-0.847</td><td>-1.247</td></tr>\n",
       "\t<tr><td> 1.432</td><td> 1.078</td><td> 1.504</td></tr>\n",
       "\t<tr><td> 0.832</td><td> 0.308</td><td> 0.954</td></tr>\n",
       "\t<tr><td> 0.243</td><td>-0.077</td><td>-0.697</td></tr>\n",
       "</tbody>\n",
       "</table>\n"
      ],
      "text/latex": [
       "\\begin{tabular}{lll}\n",
       " Math & Science & English\\\\\n",
       "\\hline\n",
       "\t  0.013 &  1.078 &  0.587\\\\\n",
       "\t  1.143 &  1.591 &  0.037\\\\\n",
       "\t -1.026 & -0.847 & -0.697\\\\\n",
       "\t -1.649 & -0.590 & -1.247\\\\\n",
       "\t -0.068 & -1.489 & -0.330\\\\\n",
       "\t  0.128 & -0.205 &  1.137\\\\\n",
       "\t -1.049 & -0.847 & -1.247\\\\\n",
       "\t  1.432 &  1.078 &  1.504\\\\\n",
       "\t  0.832 &  0.308 &  0.954\\\\\n",
       "\t  0.243 & -0.077 & -0.697\\\\\n",
       "\\end{tabular}\n"
      ],
      "text/markdown": [
       "\n",
       "Math | Science | English | \n",
       "|---|---|---|---|---|---|---|---|---|---|\n",
       "|  0.013 |  1.078 |  0.587 | \n",
       "|  1.143 |  1.591 |  0.037 | \n",
       "| -1.026 | -0.847 | -0.697 | \n",
       "| -1.649 | -0.590 | -1.247 | \n",
       "| -0.068 | -1.489 | -0.330 | \n",
       "|  0.128 | -0.205 |  1.137 | \n",
       "| -1.049 | -0.847 | -1.247 | \n",
       "|  1.432 |  1.078 |  1.504 | \n",
       "|  0.832 |  0.308 |  0.954 | \n",
       "|  0.243 | -0.077 | -0.697 | \n",
       "\n",
       "\n"
      ],
      "text/plain": [
       "      Math   Science English\n",
       " [1,]  0.013  1.078   0.587 \n",
       " [2,]  1.143  1.591   0.037 \n",
       " [3,] -1.026 -0.847  -0.697 \n",
       " [4,] -1.649 -0.590  -1.247 \n",
       " [5,] -0.068 -1.489  -0.330 \n",
       " [6,]  0.128 -0.205   1.137 \n",
       " [7,] -1.049 -0.847  -1.247 \n",
       " [8,]  1.432  1.078   1.504 \n",
       " [9,]  0.832  0.308   0.954 \n",
       "[10,]  0.243 -0.077  -0.697 "
      ]
     },
     "metadata": {},
     "output_type": "display_data"
    },
    {
     "data": {
      "text/html": [
       "<table>\n",
       "<thead><tr><th></th><th scope=col>Firstname</th><th scope=col>Lastname</th><th scope=col>Math</th><th scope=col>Science</th><th scope=col>English</th><th scope=col>score</th><th scope=col>grade</th></tr></thead>\n",
       "<tbody>\n",
       "\t<tr><th scope=row>6</th><td>Cheryl    </td><td>Cushing   </td><td>512       </td><td>85        </td><td>28        </td><td> 0.35     </td><td>C         </td></tr>\n",
       "\t<tr><th scope=row>1</th><td>John      </td><td>Davis     </td><td>502       </td><td>95        </td><td>25        </td><td> 0.56     </td><td>B         </td></tr>\n",
       "\t<tr><th scope=row>9</th><td>Joel      </td><td>England   </td><td>573       </td><td>89        </td><td>27        </td><td> 0.70     </td><td>B         </td></tr>\n",
       "\t<tr><th scope=row>4</th><td>David     </td><td>Jones     </td><td>358       </td><td>82        </td><td>15        </td><td>-1.16     </td><td>F         </td></tr>\n",
       "\t<tr><th scope=row>8</th><td>Greg      </td><td>Knox      </td><td>625       </td><td>95        </td><td>30        </td><td> 1.34     </td><td>A         </td></tr>\n",
       "\t<tr><th scope=row>5</th><td>Janice    </td><td>Markhammer</td><td>495       </td><td>75        </td><td>20        </td><td>-0.63     </td><td>D         </td></tr>\n",
       "\t<tr><th scope=row>3</th><td>Bullwinkle</td><td>Moose     </td><td>412       </td><td>80        </td><td>18        </td><td>-0.86     </td><td>D         </td></tr>\n",
       "\t<tr><th scope=row>10</th><td>Mary      </td><td>Rayburn   </td><td>522       </td><td>86        </td><td>18        </td><td>-0.18     </td><td>C         </td></tr>\n",
       "\t<tr><th scope=row>2</th><td>Angela    </td><td>Williams  </td><td>600       </td><td>99        </td><td>22        </td><td> 0.92     </td><td>A         </td></tr>\n",
       "\t<tr><th scope=row>7</th><td>Reuven    </td><td>Ytzrhak   </td><td>410       </td><td>80        </td><td>15        </td><td>-1.05     </td><td>F         </td></tr>\n",
       "</tbody>\n",
       "</table>\n"
      ],
      "text/latex": [
       "\\begin{tabular}{r|lllllll}\n",
       "  & Firstname & Lastname & Math & Science & English & score & grade\\\\\n",
       "\\hline\n",
       "\t6 & Cheryl     & Cushing    & 512        & 85         & 28         &  0.35      & C         \\\\\n",
       "\t1 & John       & Davis      & 502        & 95         & 25         &  0.56      & B         \\\\\n",
       "\t9 & Joel       & England    & 573        & 89         & 27         &  0.70      & B         \\\\\n",
       "\t4 & David      & Jones      & 358        & 82         & 15         & -1.16      & F         \\\\\n",
       "\t8 & Greg       & Knox       & 625        & 95         & 30         &  1.34      & A         \\\\\n",
       "\t5 & Janice     & Markhammer & 495        & 75         & 20         & -0.63      & D         \\\\\n",
       "\t3 & Bullwinkle & Moose      & 412        & 80         & 18         & -0.86      & D         \\\\\n",
       "\t10 & Mary       & Rayburn    & 522        & 86         & 18         & -0.18      & C         \\\\\n",
       "\t2 & Angela     & Williams   & 600        & 99         & 22         &  0.92      & A         \\\\\n",
       "\t7 & Reuven     & Ytzrhak    & 410        & 80         & 15         & -1.05      & F         \\\\\n",
       "\\end{tabular}\n"
      ],
      "text/markdown": [
       "\n",
       "| <!--/--> | Firstname | Lastname | Math | Science | English | score | grade | \n",
       "|---|---|---|---|---|---|---|---|---|---|\n",
       "| 6 | Cheryl     | Cushing    | 512        | 85         | 28         |  0.35      | C          | \n",
       "| 1 | John       | Davis      | 502        | 95         | 25         |  0.56      | B          | \n",
       "| 9 | Joel       | England    | 573        | 89         | 27         |  0.70      | B          | \n",
       "| 4 | David      | Jones      | 358        | 82         | 15         | -1.16      | F          | \n",
       "| 8 | Greg       | Knox       | 625        | 95         | 30         |  1.34      | A          | \n",
       "| 5 | Janice     | Markhammer | 495        | 75         | 20         | -0.63      | D          | \n",
       "| 3 | Bullwinkle | Moose      | 412        | 80         | 18         | -0.86      | D          | \n",
       "| 10 | Mary       | Rayburn    | 522        | 86         | 18         | -0.18      | C          | \n",
       "| 2 | Angela     | Williams   | 600        | 99         | 22         |  0.92      | A          | \n",
       "| 7 | Reuven     | Ytzrhak    | 410        | 80         | 15         | -1.05      | F          | \n",
       "\n",
       "\n"
      ],
      "text/plain": [
       "   Firstname  Lastname   Math Science English score grade\n",
       "6  Cheryl     Cushing    512  85      28       0.35 C    \n",
       "1  John       Davis      502  95      25       0.56 B    \n",
       "9  Joel       England    573  89      27       0.70 B    \n",
       "4  David      Jones      358  82      15      -1.16 F    \n",
       "8  Greg       Knox       625  95      30       1.34 A    \n",
       "5  Janice     Markhammer 495  75      20      -0.63 D    \n",
       "3  Bullwinkle Moose      412  80      18      -0.86 D    \n",
       "10 Mary       Rayburn    522  86      18      -0.18 C    \n",
       "2  Angela     Williams   600  99      22       0.92 A    \n",
       "7  Reuven     Ytzrhak    410  80      15      -1.05 F    "
      ]
     },
     "metadata": {},
     "output_type": "display_data"
    }
   ],
   "source": [
    "# 复杂数据处理势力\n",
    "options(digits=2)\n",
    "Student <- c(\"John Davis\", \"Angela Williams\", \"Bullwinkle Moose\",\n",
    "             \"David Jones\", \"Janice Markhammer\", \"Cheryl Cushing\",\n",
    "             \"Reuven Ytzrhak\", \"Greg Knox\", \"Joel England\",\n",
    "             \"Mary Rayburn\")\n",
    "Math <- c(502, 600, 412, 358, 495, 512, 410, 625, 573, 522)\n",
    "Science <- c(95, 99, 80, 82, 75, 85, 80, 95, 89, 86)\n",
    "English <- c(25, 22, 18, 15, 20, 28, 15, 30, 27, 18)\n",
    "\n",
    "roster <- data.frame(Student, Math, Science, English,\n",
    "                     stringsAsFactors=FALSE)\n",
    "z <- scale(roster[,2:4]) # 对math, science, english做归一化：均值0，标准差1\n",
    "score <- apply(z, 1, mean) # 求平均得分\n",
    "roster <- cbind(roster, score) # 按行合并\n",
    "\n",
    "y <- quantile(score, c(.8,.6,.4,.2)) # 确定百分位数\n",
    "roster$grade[score >= y[1]] <- \"A\"\n",
    "roster$grade[score < y[1] & score >= y[2]] <- \"B\"\n",
    "roster$grade[score < y[2] & score >= y[3]] <- \"C\"\n",
    "roster$grade[score < y[3] & score >= y[4]] <- \"D\"\n",
    "roster$grade[score < y[4]] <- \"F\"\n",
    "\n",
    "name <- strsplit((roster$Student), \" \") # 按空格分割名字\n",
    "Lastname <- sapply(name, \"[\", 2) # \n",
    "Firstname <- sapply(name, \"[\", 1)\n",
    "roster <- cbind(Firstname,Lastname, roster[,-1])\n",
    "roster <- roster[order(Lastname,Firstname),]\n",
    "roster"
   ]
  },
  {
   "cell_type": "markdown",
   "metadata": {},
   "source": [
    "## 控制流"
   ]
  },
  {
   "cell_type": "code",
   "execution_count": 2,
   "metadata": {},
   "outputs": [
    {
     "name": "stdout",
     "output_type": "stream",
     "text": [
      "[1] 1\n",
      "[1] 2\n",
      "[1] 3\n",
      "[1] 4\n",
      "[1] 5\n",
      "[1] 6\n",
      "[1] 7\n",
      "[1] 8\n",
      "[1] 9\n",
      "[1] 10\n"
     ]
    }
   ],
   "source": [
    "# for\n",
    "for (i in 1:10) print(i)"
   ]
  },
  {
   "cell_type": "code",
   "execution_count": 4,
   "metadata": {},
   "outputs": [
    {
     "name": "stdout",
     "output_type": "stream",
     "text": [
      "[1] 10\n",
      "[1] 9\n",
      "[1] 8\n",
      "[1] 7\n",
      "[1] 6\n",
      "[1] 5\n",
      "[1] 4\n",
      "[1] 3\n",
      "[1] 2\n",
      "[1] 1\n"
     ]
    }
   ],
   "source": [
    "# while\n",
    "i <- 10\n",
    "while(i > 0) {print(i); i<- i - 1}"
   ]
  },
  {
   "cell_type": "code",
   "execution_count": 10,
   "metadata": {},
   "outputs": [
    {
     "name": "stdout",
     "output_type": "stream",
     "text": [
      "Median= -0.02070734 \n",
      " MAD= 1.000984 \n"
     ]
    }
   ],
   "source": [
    "# 自编函数\n",
    "mystats <- function(x, parametric=TRUE, print=FALSE){ # 带了默认参数\n",
    "    if (parametric){\n",
    "        center <- mean(x); spread <- sd(x)\n",
    "    }\n",
    "    else{\n",
    "        center <- median(x); spread <- mad(x)\n",
    "    }\n",
    "    if (print & parametric){\n",
    "        cat(\"Mean=\", center, \"\\n\", \"SD=\", spread, \"\\n\")\n",
    "    } else if (print & !parametric){\n",
    "        cat(\"Median=\", center, \"\\n\", \"MAD=\", spread, \"\\n\")\n",
    "    } \n",
    "}\n",
    "set.seed(1234)\n",
    "x <- rnorm(500)\n",
    "y <- mystats(x, parametric = FALSE, print=TRUE)"
   ]
  },
  {
   "cell_type": "markdown",
   "metadata": {},
   "source": [
    "## 整合与重构"
   ]
  },
  {
   "cell_type": "code",
   "execution_count": 1,
   "metadata": {},
   "outputs": [
    {
     "data": {
      "text/html": [
       "<table>\n",
       "<thead><tr><th></th><th scope=col>mpg</th><th scope=col>cyl</th><th scope=col>disp</th><th scope=col>hp</th></tr></thead>\n",
       "<tbody>\n",
       "\t<tr><th scope=row>Mazda RX4</th><td>21.0</td><td>6   </td><td>160 </td><td>110 </td></tr>\n",
       "\t<tr><th scope=row>Mazda RX4 Wag</th><td>21.0</td><td>6   </td><td>160 </td><td>110 </td></tr>\n",
       "\t<tr><th scope=row>Datsun 710</th><td>22.8</td><td>4   </td><td>108 </td><td> 93 </td></tr>\n",
       "\t<tr><th scope=row>Hornet 4 Drive</th><td>21.4</td><td>6   </td><td>258 </td><td>110 </td></tr>\n",
       "\t<tr><th scope=row>Hornet Sportabout</th><td>18.7</td><td>8   </td><td>360 </td><td>175 </td></tr>\n",
       "</tbody>\n",
       "</table>\n"
      ],
      "text/latex": [
       "\\begin{tabular}{r|llll}\n",
       "  & mpg & cyl & disp & hp\\\\\n",
       "\\hline\n",
       "\tMazda RX4 & 21.0 & 6    & 160  & 110 \\\\\n",
       "\tMazda RX4 Wag & 21.0 & 6    & 160  & 110 \\\\\n",
       "\tDatsun 710 & 22.8 & 4    & 108  &  93 \\\\\n",
       "\tHornet 4 Drive & 21.4 & 6    & 258  & 110 \\\\\n",
       "\tHornet Sportabout & 18.7 & 8    & 360  & 175 \\\\\n",
       "\\end{tabular}\n"
      ],
      "text/markdown": [
       "\n",
       "| <!--/--> | mpg | cyl | disp | hp | \n",
       "|---|---|---|---|---|\n",
       "| Mazda RX4 | 21.0 | 6    | 160  | 110  | \n",
       "| Mazda RX4 Wag | 21.0 | 6    | 160  | 110  | \n",
       "| Datsun 710 | 22.8 | 4    | 108  |  93  | \n",
       "| Hornet 4 Drive | 21.4 | 6    | 258  | 110  | \n",
       "| Hornet Sportabout | 18.7 | 8    | 360  | 175  | \n",
       "\n",
       "\n"
      ],
      "text/plain": [
       "                  mpg  cyl disp hp \n",
       "Mazda RX4         21.0 6   160  110\n",
       "Mazda RX4 Wag     21.0 6   160  110\n",
       "Datsun 710        22.8 4   108   93\n",
       "Hornet 4 Drive    21.4 6   258  110\n",
       "Hornet Sportabout 18.7 8   360  175"
      ]
     },
     "metadata": {},
     "output_type": "display_data"
    },
    {
     "data": {
      "text/html": [
       "<table>\n",
       "<thead><tr><th></th><th scope=col>Mazda RX4</th><th scope=col>Mazda RX4 Wag</th><th scope=col>Datsun 710</th><th scope=col>Hornet 4 Drive</th><th scope=col>Hornet Sportabout</th></tr></thead>\n",
       "<tbody>\n",
       "\t<tr><th scope=row>mpg</th><td> 21  </td><td> 21  </td><td> 22.8</td><td> 21.4</td><td> 18.7</td></tr>\n",
       "\t<tr><th scope=row>cyl</th><td>  6  </td><td>  6  </td><td>  4.0</td><td>  6.0</td><td>  8.0</td></tr>\n",
       "\t<tr><th scope=row>disp</th><td>160  </td><td>160  </td><td>108.0</td><td>258.0</td><td>360.0</td></tr>\n",
       "\t<tr><th scope=row>hp</th><td>110  </td><td>110  </td><td> 93.0</td><td>110.0</td><td>175.0</td></tr>\n",
       "</tbody>\n",
       "</table>\n"
      ],
      "text/latex": [
       "\\begin{tabular}{r|lllll}\n",
       "  & Mazda RX4 & Mazda RX4 Wag & Datsun 710 & Hornet 4 Drive & Hornet Sportabout\\\\\n",
       "\\hline\n",
       "\tmpg &  21   &  21   &  22.8 &  21.4 &  18.7\\\\\n",
       "\tcyl &   6   &   6   &   4.0 &   6.0 &   8.0\\\\\n",
       "\tdisp & 160   & 160   & 108.0 & 258.0 & 360.0\\\\\n",
       "\thp & 110   & 110   &  93.0 & 110.0 & 175.0\\\\\n",
       "\\end{tabular}\n"
      ],
      "text/markdown": [
       "\n",
       "| <!--/--> | Mazda RX4 | Mazda RX4 Wag | Datsun 710 | Hornet 4 Drive | Hornet Sportabout | \n",
       "|---|---|---|---|\n",
       "| mpg |  21   |  21   |  22.8 |  21.4 |  18.7 | \n",
       "| cyl |   6   |   6   |   4.0 |   6.0 |   8.0 | \n",
       "| disp | 160   | 160   | 108.0 | 258.0 | 360.0 | \n",
       "| hp | 110   | 110   |  93.0 | 110.0 | 175.0 | \n",
       "\n",
       "\n"
      ],
      "text/plain": [
       "     Mazda RX4 Mazda RX4 Wag Datsun 710 Hornet 4 Drive Hornet Sportabout\n",
       "mpg   21        21            22.8       21.4           18.7            \n",
       "cyl    6         6             4.0        6.0            8.0            \n",
       "disp 160       160           108.0      258.0          360.0            \n",
       "hp   110       110            93.0      110.0          175.0            "
      ]
     },
     "metadata": {},
     "output_type": "display_data"
    }
   ],
   "source": [
    "# 转置\n",
    "cars <- mtcars[1:5, 1:4]\n",
    "cars\n",
    "t(cars)"
   ]
  },
  {
   "cell_type": "code",
   "execution_count": 23,
   "metadata": {},
   "outputs": [
    {
     "name": "stdout",
     "output_type": "stream",
     "text": [
      "mydata"
     ]
    },
    {
     "data": {
      "text/html": [
       "<table>\n",
       "<thead><tr><th scope=col>ID</th><th scope=col>Time</th><th scope=col>X1</th><th scope=col>X2</th></tr></thead>\n",
       "<tbody>\n",
       "\t<tr><td>1</td><td>1</td><td>5</td><td>6</td></tr>\n",
       "\t<tr><td>1</td><td>2</td><td>3</td><td>5</td></tr>\n",
       "\t<tr><td>2</td><td>1</td><td>6</td><td>1</td></tr>\n",
       "\t<tr><td>2</td><td>2</td><td>2</td><td>4</td></tr>\n",
       "</tbody>\n",
       "</table>\n"
      ],
      "text/latex": [
       "\\begin{tabular}{r|llll}\n",
       " ID & Time & X1 & X2\\\\\n",
       "\\hline\n",
       "\t 1 & 1 & 5 & 6\\\\\n",
       "\t 1 & 2 & 3 & 5\\\\\n",
       "\t 2 & 1 & 6 & 1\\\\\n",
       "\t 2 & 2 & 2 & 4\\\\\n",
       "\\end{tabular}\n"
      ],
      "text/markdown": [
       "\n",
       "ID | Time | X1 | X2 | \n",
       "|---|---|---|---|\n",
       "| 1 | 1 | 5 | 6 | \n",
       "| 1 | 2 | 3 | 5 | \n",
       "| 2 | 1 | 6 | 1 | \n",
       "| 2 | 2 | 2 | 4 | \n",
       "\n",
       "\n"
      ],
      "text/plain": [
       "  ID Time X1 X2\n",
       "1 1  1    5  6 \n",
       "2 1  2    3  5 \n",
       "3 2  1    6  1 \n",
       "4 2  2    2  4 "
      ]
     },
     "metadata": {},
     "output_type": "display_data"
    },
    {
     "name": "stdout",
     "output_type": "stream",
     "text": [
      "melt by ID and Time"
     ]
    },
    {
     "data": {
      "text/html": [
       "<table>\n",
       "<thead><tr><th scope=col>ID</th><th scope=col>Time</th><th scope=col>variable</th><th scope=col>value</th></tr></thead>\n",
       "<tbody>\n",
       "\t<tr><td>1 </td><td>1 </td><td>X1</td><td>5 </td></tr>\n",
       "\t<tr><td>1 </td><td>2 </td><td>X1</td><td>3 </td></tr>\n",
       "\t<tr><td>2 </td><td>1 </td><td>X1</td><td>6 </td></tr>\n",
       "\t<tr><td>2 </td><td>2 </td><td>X1</td><td>2 </td></tr>\n",
       "\t<tr><td>1 </td><td>1 </td><td>X2</td><td>6 </td></tr>\n",
       "\t<tr><td>1 </td><td>2 </td><td>X2</td><td>5 </td></tr>\n",
       "\t<tr><td>2 </td><td>1 </td><td>X2</td><td>1 </td></tr>\n",
       "\t<tr><td>2 </td><td>2 </td><td>X2</td><td>4 </td></tr>\n",
       "</tbody>\n",
       "</table>\n"
      ],
      "text/latex": [
       "\\begin{tabular}{r|llll}\n",
       " ID & Time & variable & value\\\\\n",
       "\\hline\n",
       "\t 1  & 1  & X1 & 5 \\\\\n",
       "\t 1  & 2  & X1 & 3 \\\\\n",
       "\t 2  & 1  & X1 & 6 \\\\\n",
       "\t 2  & 2  & X1 & 2 \\\\\n",
       "\t 1  & 1  & X2 & 6 \\\\\n",
       "\t 1  & 2  & X2 & 5 \\\\\n",
       "\t 2  & 1  & X2 & 1 \\\\\n",
       "\t 2  & 2  & X2 & 4 \\\\\n",
       "\\end{tabular}\n"
      ],
      "text/markdown": [
       "\n",
       "ID | Time | variable | value | \n",
       "|---|---|---|---|---|---|---|---|\n",
       "| 1  | 1  | X1 | 5  | \n",
       "| 1  | 2  | X1 | 3  | \n",
       "| 2  | 1  | X1 | 6  | \n",
       "| 2  | 2  | X1 | 2  | \n",
       "| 1  | 1  | X2 | 6  | \n",
       "| 1  | 2  | X2 | 5  | \n",
       "| 2  | 1  | X2 | 1  | \n",
       "| 2  | 2  | X2 | 4  | \n",
       "\n",
       "\n"
      ],
      "text/plain": [
       "  ID Time variable value\n",
       "1 1  1    X1       5    \n",
       "2 1  2    X1       3    \n",
       "3 2  1    X1       6    \n",
       "4 2  2    X1       2    \n",
       "5 1  1    X2       6    \n",
       "6 1  2    X2       5    \n",
       "7 2  1    X2       1    \n",
       "8 2  2    X2       4    "
      ]
     },
     "metadata": {},
     "output_type": "display_data"
    },
    {
     "name": "stdout",
     "output_type": "stream",
     "text": [
      "melt by ID"
     ]
    },
    {
     "data": {
      "text/html": [
       "<table>\n",
       "<thead><tr><th scope=col>ID</th><th scope=col>variable</th><th scope=col>value</th></tr></thead>\n",
       "<tbody>\n",
       "\t<tr><td>1   </td><td>Time</td><td>1   </td></tr>\n",
       "\t<tr><td>1   </td><td>Time</td><td>2   </td></tr>\n",
       "\t<tr><td>2   </td><td>Time</td><td>1   </td></tr>\n",
       "\t<tr><td>2   </td><td>Time</td><td>2   </td></tr>\n",
       "\t<tr><td>1   </td><td>X1  </td><td>5   </td></tr>\n",
       "\t<tr><td>1   </td><td>X1  </td><td>3   </td></tr>\n",
       "\t<tr><td>2   </td><td>X1  </td><td>6   </td></tr>\n",
       "\t<tr><td>2   </td><td>X1  </td><td>2   </td></tr>\n",
       "\t<tr><td>1   </td><td>X2  </td><td>6   </td></tr>\n",
       "\t<tr><td>1   </td><td>X2  </td><td>5   </td></tr>\n",
       "\t<tr><td>2   </td><td>X2  </td><td>1   </td></tr>\n",
       "\t<tr><td>2   </td><td>X2  </td><td>4   </td></tr>\n",
       "</tbody>\n",
       "</table>\n"
      ],
      "text/latex": [
       "\\begin{tabular}{r|lll}\n",
       " ID & variable & value\\\\\n",
       "\\hline\n",
       "\t 1    & Time & 1   \\\\\n",
       "\t 1    & Time & 2   \\\\\n",
       "\t 2    & Time & 1   \\\\\n",
       "\t 2    & Time & 2   \\\\\n",
       "\t 1    & X1   & 5   \\\\\n",
       "\t 1    & X1   & 3   \\\\\n",
       "\t 2    & X1   & 6   \\\\\n",
       "\t 2    & X1   & 2   \\\\\n",
       "\t 1    & X2   & 6   \\\\\n",
       "\t 1    & X2   & 5   \\\\\n",
       "\t 2    & X2   & 1   \\\\\n",
       "\t 2    & X2   & 4   \\\\\n",
       "\\end{tabular}\n"
      ],
      "text/markdown": [
       "\n",
       "ID | variable | value | \n",
       "|---|---|---|---|---|---|---|---|---|---|---|---|\n",
       "| 1    | Time | 1    | \n",
       "| 1    | Time | 2    | \n",
       "| 2    | Time | 1    | \n",
       "| 2    | Time | 2    | \n",
       "| 1    | X1   | 5    | \n",
       "| 1    | X1   | 3    | \n",
       "| 2    | X1   | 6    | \n",
       "| 2    | X1   | 2    | \n",
       "| 1    | X2   | 6    | \n",
       "| 1    | X2   | 5    | \n",
       "| 2    | X2   | 1    | \n",
       "| 2    | X2   | 4    | \n",
       "\n",
       "\n"
      ],
      "text/plain": [
       "   ID variable value\n",
       "1  1  Time     1    \n",
       "2  1  Time     2    \n",
       "3  2  Time     1    \n",
       "4  2  Time     2    \n",
       "5  1  X1       5    \n",
       "6  1  X1       3    \n",
       "7  2  X1       6    \n",
       "8  2  X1       2    \n",
       "9  1  X2       6    \n",
       "10 1  X2       5    \n",
       "11 2  X2       1    \n",
       "12 2  X2       4    "
      ]
     },
     "metadata": {},
     "output_type": "display_data"
    }
   ],
   "source": [
    "# reshape包\n",
    "# install.packages('reshape')\n",
    "library(reshape)\n",
    "# melt\n",
    "ID <- c(1,1,2,2)\n",
    "Time <- c(1,2,1,2)\n",
    "X1 <- c(5,3,6,2)\n",
    "X2 <- c(6,5,1,4)\n",
    "mydata <- matrix(c(ID, Time, X1, X2), nrow=4, ncol=4)\n",
    "mydata <- as.data.frame(mydata)\n",
    "names(mydata) <- c('ID', 'Time', 'X1', 'X2')\n",
    "cat('mydata')\n",
    "mydata\n",
    "md <- melt(mydata, id=(c('ID', 'Time'))) # 通过id确定Variable的值\n",
    "cat('melt by ID and Time')\n",
    "md\n",
    "cat('melt by ID')\n",
    "md <- melt(mydata, id=(c('ID')))\n",
    "md\n",
    "md <- melt(mydata, id=(c('ID', 'Time')))"
   ]
  },
  {
   "cell_type": "code",
   "execution_count": 32,
   "metadata": {},
   "outputs": [
    {
     "data": {
      "text/html": [
       "<table>\n",
       "<thead><tr><th scope=col>ID</th><th scope=col>X1</th><th scope=col>X2</th></tr></thead>\n",
       "<tbody>\n",
       "\t<tr><td>1  </td><td>4  </td><td>5.5</td></tr>\n",
       "\t<tr><td>2  </td><td>4  </td><td>2.5</td></tr>\n",
       "</tbody>\n",
       "</table>\n"
      ],
      "text/latex": [
       "\\begin{tabular}{r|lll}\n",
       " ID & X1 & X2\\\\\n",
       "\\hline\n",
       "\t 1   & 4   & 5.5\\\\\n",
       "\t 2   & 4   & 2.5\\\\\n",
       "\\end{tabular}\n"
      ],
      "text/markdown": [
       "\n",
       "ID | X1 | X2 | \n",
       "|---|---|\n",
       "| 1   | 4   | 5.5 | \n",
       "| 2   | 4   | 2.5 | \n",
       "\n",
       "\n"
      ],
      "text/plain": [
       "  ID X1 X2 \n",
       "1 1  4  5.5\n",
       "2 2  4  2.5"
      ]
     },
     "metadata": {},
     "output_type": "display_data"
    },
    {
     "data": {
      "text/html": [
       "<table>\n",
       "<thead><tr><th scope=col>Time</th><th scope=col>X1</th><th scope=col>X2</th></tr></thead>\n",
       "<tbody>\n",
       "\t<tr><td>1  </td><td>5.5</td><td>3.5</td></tr>\n",
       "\t<tr><td>2  </td><td>2.5</td><td>4.5</td></tr>\n",
       "</tbody>\n",
       "</table>\n"
      ],
      "text/latex": [
       "\\begin{tabular}{r|lll}\n",
       " Time & X1 & X2\\\\\n",
       "\\hline\n",
       "\t 1   & 5.5 & 3.5\\\\\n",
       "\t 2   & 2.5 & 4.5\\\\\n",
       "\\end{tabular}\n"
      ],
      "text/markdown": [
       "\n",
       "Time | X1 | X2 | \n",
       "|---|---|\n",
       "| 1   | 5.5 | 3.5 | \n",
       "| 2   | 2.5 | 4.5 | \n",
       "\n",
       "\n"
      ],
      "text/plain": [
       "  Time X1  X2 \n",
       "1 1    5.5 3.5\n",
       "2 2    2.5 4.5"
      ]
     },
     "metadata": {},
     "output_type": "display_data"
    },
    {
     "data": {
      "text/html": [
       "<table>\n",
       "<thead><tr><th scope=col>ID</th><th scope=col>Time</th><th scope=col>X1</th><th scope=col>X2</th></tr></thead>\n",
       "<tbody>\n",
       "\t<tr><td>1</td><td>1</td><td>5</td><td>6</td></tr>\n",
       "\t<tr><td>1</td><td>2</td><td>3</td><td>5</td></tr>\n",
       "\t<tr><td>2</td><td>1</td><td>6</td><td>1</td></tr>\n",
       "\t<tr><td>2</td><td>2</td><td>2</td><td>4</td></tr>\n",
       "</tbody>\n",
       "</table>\n"
      ],
      "text/latex": [
       "\\begin{tabular}{r|llll}\n",
       " ID & Time & X1 & X2\\\\\n",
       "\\hline\n",
       "\t 1 & 1 & 5 & 6\\\\\n",
       "\t 1 & 2 & 3 & 5\\\\\n",
       "\t 2 & 1 & 6 & 1\\\\\n",
       "\t 2 & 2 & 2 & 4\\\\\n",
       "\\end{tabular}\n"
      ],
      "text/markdown": [
       "\n",
       "ID | Time | X1 | X2 | \n",
       "|---|---|---|---|\n",
       "| 1 | 1 | 5 | 6 | \n",
       "| 1 | 2 | 3 | 5 | \n",
       "| 2 | 1 | 6 | 1 | \n",
       "| 2 | 2 | 2 | 4 | \n",
       "\n",
       "\n"
      ],
      "text/plain": [
       "  ID Time X1 X2\n",
       "1 1  1    5  6 \n",
       "2 1  2    3  5 \n",
       "3 2  1    6  1 \n",
       "4 2  2    2  4 "
      ]
     },
     "metadata": {},
     "output_type": "display_data"
    },
    {
     "data": {
      "text/html": [
       "<table>\n",
       "<thead><tr><th scope=col>ID</th><th scope=col>variable</th><th scope=col>1</th><th scope=col>2</th></tr></thead>\n",
       "<tbody>\n",
       "\t<tr><td>1 </td><td>X1</td><td>5 </td><td>3 </td></tr>\n",
       "\t<tr><td>1 </td><td>X2</td><td>6 </td><td>5 </td></tr>\n",
       "\t<tr><td>2 </td><td>X1</td><td>6 </td><td>2 </td></tr>\n",
       "\t<tr><td>2 </td><td>X2</td><td>1 </td><td>4 </td></tr>\n",
       "</tbody>\n",
       "</table>\n"
      ],
      "text/latex": [
       "\\begin{tabular}{r|llll}\n",
       " ID & variable & 1 & 2\\\\\n",
       "\\hline\n",
       "\t 1  & X1 & 5  & 3 \\\\\n",
       "\t 1  & X2 & 6  & 5 \\\\\n",
       "\t 2  & X1 & 6  & 2 \\\\\n",
       "\t 2  & X2 & 1  & 4 \\\\\n",
       "\\end{tabular}\n"
      ],
      "text/markdown": [
       "\n",
       "ID | variable | 1 | 2 | \n",
       "|---|---|---|---|\n",
       "| 1  | X1 | 5  | 3  | \n",
       "| 1  | X2 | 6  | 5  | \n",
       "| 2  | X1 | 6  | 2  | \n",
       "| 2  | X2 | 1  | 4  | \n",
       "\n",
       "\n"
      ],
      "text/plain": [
       "  ID variable 1 2\n",
       "1 1  X1       5 3\n",
       "2 1  X2       6 5\n",
       "3 2  X1       6 2\n",
       "4 2  X2       1 4"
      ]
     },
     "metadata": {},
     "output_type": "display_data"
    },
    {
     "data": {
      "text/html": [
       "<table>\n",
       "<thead><tr><th scope=col>ID</th><th scope=col>X1_1</th><th scope=col>X1_2</th><th scope=col>X2_1</th><th scope=col>X2_2</th></tr></thead>\n",
       "<tbody>\n",
       "\t<tr><td>1</td><td>5</td><td>3</td><td>6</td><td>5</td></tr>\n",
       "\t<tr><td>2</td><td>6</td><td>2</td><td>1</td><td>4</td></tr>\n",
       "</tbody>\n",
       "</table>\n"
      ],
      "text/latex": [
       "\\begin{tabular}{r|lllll}\n",
       " ID & X1\\_1 & X1\\_2 & X2\\_1 & X2\\_2\\\\\n",
       "\\hline\n",
       "\t 1 & 5 & 3 & 6 & 5\\\\\n",
       "\t 2 & 6 & 2 & 1 & 4\\\\\n",
       "\\end{tabular}\n"
      ],
      "text/markdown": [
       "\n",
       "ID | X1_1 | X1_2 | X2_1 | X2_2 | \n",
       "|---|---|\n",
       "| 1 | 5 | 3 | 6 | 5 | \n",
       "| 2 | 6 | 2 | 1 | 4 | \n",
       "\n",
       "\n"
      ],
      "text/plain": [
       "  ID X1_1 X1_2 X2_1 X2_2\n",
       "1 1  5    3    6    5   \n",
       "2 2  6    2    1    4   "
      ]
     },
     "metadata": {},
     "output_type": "display_data"
    }
   ],
   "source": [
    "# cast重铸\n",
    "# 读取已融合的数据，来整合函数\n",
    "newdata <- cast(md, ID~variable,mean)\n",
    "newdata # ID为1的X1平均值为4，以此类推\n",
    "newdata <- cast(md, Time~variable, mean)\n",
    "newdata\n",
    "\n",
    "# 不执行整合\n",
    "cast(md, ID+Time~variable) # 以ID+Time为基的感觉\n",
    "cast(md, ID+variable~Time) # 以ID+X1为基，但是呢同样的ID和X1会对应两种情况（以Time确定）\n",
    "cast(md, ID~variable+Time) # 以ID为基，以variable和Time确定列"
   ]
  }
 ],
 "metadata": {
  "kernelspec": {
   "display_name": "R",
   "language": "R",
   "name": "ir"
  },
  "language_info": {
   "codemirror_mode": "r",
   "file_extension": ".r",
   "mimetype": "text/x-r-source",
   "name": "R",
   "pygments_lexer": "r",
   "version": "3.4.3"
  }
 },
 "nbformat": 4,
 "nbformat_minor": 2
}
