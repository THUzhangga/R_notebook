{
 "cells": [
  {
   "cell_type": "markdown",
   "metadata": {},
   "source": [
    "# 第4章 基本数据管理"
   ]
  },
  {
   "cell_type": "markdown",
   "metadata": {},
   "source": [
    "## 4.1 Demo"
   ]
  },
  {
   "cell_type": "code",
   "execution_count": 39,
   "metadata": {},
   "outputs": [],
   "source": [
    "# 创建leadership数据框\n",
    "manager <- c(1,2,3,4,5)\n",
    "date <- c(\"10/24/08\",\"10/28/08\",\"10/1/08\",\"10/12/08\",\"5/1/09\")\n",
    "gender <- c(\"M\",\"F\",\"F\",\"M\",\"F\")\n",
    "age <- c(32,45,25,39,99)\n",
    "q1 <- c(5,3,3,3,2)\n",
    "q2 <- c(4,5,5,3,2)\n",
    "q3 <- c(5,2,5,4,1)\n",
    "q4 <- c(5,5,5,NA,2)\n",
    "q5 <- c(5,5,2,NA,1)\n",
    "leadership <- data.frame(manager,date,gender,age,q1,q2,q3,q4,q5, \n",
    "                         stringsAsFactors=FALSE) # 创建dataframe，由于有字符串，需要不认成factors"
   ]
  },
  {
   "cell_type": "code",
   "execution_count": 7,
   "metadata": {},
   "outputs": [
    {
     "data": {
      "text/html": [
       "<table>\n",
       "<thead><tr><th scope=col>manager</th><th scope=col>date</th><th scope=col>gender</th><th scope=col>age</th><th scope=col>q1</th><th scope=col>q2</th><th scope=col>q3</th><th scope=col>q4</th><th scope=col>q5</th></tr></thead>\n",
       "<tbody>\n",
       "\t<tr><td>1       </td><td>10/24/08</td><td>M       </td><td>32      </td><td>5       </td><td>4       </td><td>5       </td><td> 5      </td><td> 5      </td></tr>\n",
       "\t<tr><td>2       </td><td>10/28/08</td><td>F       </td><td>45      </td><td>3       </td><td>5       </td><td>2       </td><td> 5      </td><td> 5      </td></tr>\n",
       "\t<tr><td>3       </td><td>10/1/08 </td><td>F       </td><td>25      </td><td>3       </td><td>5       </td><td>5       </td><td> 5      </td><td> 2      </td></tr>\n",
       "\t<tr><td>4       </td><td>10/12/08</td><td>M       </td><td>39      </td><td>3       </td><td>3       </td><td>4       </td><td>NA      </td><td>NA      </td></tr>\n",
       "\t<tr><td>5       </td><td>5/1/09  </td><td>F       </td><td>99      </td><td>2       </td><td>2       </td><td>1       </td><td> 2      </td><td> 1      </td></tr>\n",
       "</tbody>\n",
       "</table>\n"
      ],
      "text/latex": [
       "\\begin{tabular}{r|lllllllll}\n",
       " manager & date & gender & age & q1 & q2 & q3 & q4 & q5\\\\\n",
       "\\hline\n",
       "\t 1        & 10/24/08 & M        & 32       & 5        & 4        & 5        &  5       &  5      \\\\\n",
       "\t 2        & 10/28/08 & F        & 45       & 3        & 5        & 2        &  5       &  5      \\\\\n",
       "\t 3        & 10/1/08  & F        & 25       & 3        & 5        & 5        &  5       &  2      \\\\\n",
       "\t 4        & 10/12/08 & M        & 39       & 3        & 3        & 4        & NA       & NA      \\\\\n",
       "\t 5        & 5/1/09   & F        & 99       & 2        & 2        & 1        &  2       &  1      \\\\\n",
       "\\end{tabular}\n"
      ],
      "text/markdown": [
       "\n",
       "manager | date | gender | age | q1 | q2 | q3 | q4 | q5 | \n",
       "|---|---|---|---|---|\n",
       "| 1        | 10/24/08 | M        | 32       | 5        | 4        | 5        |  5       |  5       | \n",
       "| 2        | 10/28/08 | F        | 45       | 3        | 5        | 2        |  5       |  5       | \n",
       "| 3        | 10/1/08  | F        | 25       | 3        | 5        | 5        |  5       |  2       | \n",
       "| 4        | 10/12/08 | M        | 39       | 3        | 3        | 4        | NA       | NA       | \n",
       "| 5        | 5/1/09   | F        | 99       | 2        | 2        | 1        |  2       |  1       | \n",
       "\n",
       "\n"
      ],
      "text/plain": [
       "  manager date     gender age q1 q2 q3 q4 q5\n",
       "1 1       10/24/08 M      32  5  4  5   5  5\n",
       "2 2       10/28/08 F      45  3  5  2   5  5\n",
       "3 3       10/1/08  F      25  3  5  5   5  2\n",
       "4 4       10/12/08 M      39  3  3  4  NA NA\n",
       "5 5       5/1/09   F      99  2  2  1   2  1"
      ]
     },
     "metadata": {},
     "output_type": "display_data"
    }
   ],
   "source": [
    "leadership"
   ]
  },
  {
   "cell_type": "markdown",
   "metadata": {},
   "source": [
    "## 创建新变量"
   ]
  },
  {
   "cell_type": "code",
   "execution_count": 11,
   "metadata": {},
   "outputs": [
    {
     "data": {
      "text/html": [
       "<table>\n",
       "<thead><tr><th scope=col>x1</th><th scope=col>x2</th><th scope=col>sumx</th><th scope=col>meanx</th></tr></thead>\n",
       "<tbody>\n",
       "\t<tr><td>2  </td><td>3  </td><td> 5 </td><td>2.5</td></tr>\n",
       "\t<tr><td>2  </td><td>4  </td><td> 6 </td><td>3.0</td></tr>\n",
       "\t<tr><td>6  </td><td>2  </td><td> 8 </td><td>4.0</td></tr>\n",
       "\t<tr><td>4  </td><td>8  </td><td>12 </td><td>6.0</td></tr>\n",
       "</tbody>\n",
       "</table>\n"
      ],
      "text/latex": [
       "\\begin{tabular}{r|llll}\n",
       " x1 & x2 & sumx & meanx\\\\\n",
       "\\hline\n",
       "\t 2   & 3   &  5  & 2.5\\\\\n",
       "\t 2   & 4   &  6  & 3.0\\\\\n",
       "\t 6   & 2   &  8  & 4.0\\\\\n",
       "\t 4   & 8   & 12  & 6.0\\\\\n",
       "\\end{tabular}\n"
      ],
      "text/markdown": [
       "\n",
       "x1 | x2 | sumx | meanx | \n",
       "|---|---|---|---|\n",
       "| 2   | 3   |  5  | 2.5 | \n",
       "| 2   | 4   |  6  | 3.0 | \n",
       "| 6   | 2   |  8  | 4.0 | \n",
       "| 4   | 8   | 12  | 6.0 | \n",
       "\n",
       "\n"
      ],
      "text/plain": [
       "  x1 x2 sumx meanx\n",
       "1 2  3   5   2.5  \n",
       "2 2  4   6   3.0  \n",
       "3 6  2   8   4.0  \n",
       "4 4  8  12   6.0  "
      ]
     },
     "metadata": {},
     "output_type": "display_data"
    }
   ],
   "source": [
    "mydata <- data.frame(x1=c(2,2,6,4),\n",
    "                    x2=c(3,4,2,8))\n",
    "mydata <- transform(mydata, sumx= x1+x2, meanx = (x1+x2)/2)\n",
    "mydata"
   ]
  },
  {
   "cell_type": "markdown",
   "metadata": {},
   "source": [
    "## 变量的重编码"
   ]
  },
  {
   "cell_type": "code",
   "execution_count": 16,
   "metadata": {},
   "outputs": [
    {
     "data": {
      "text/html": [
       "<table>\n",
       "<thead><tr><th scope=col>manager</th><th scope=col>date</th><th scope=col>gender</th><th scope=col>age</th><th scope=col>q1</th><th scope=col>q2</th><th scope=col>q3</th><th scope=col>q4</th><th scope=col>q5</th><th scope=col>agecat</th></tr></thead>\n",
       "<tbody>\n",
       "\t<tr><td>1        </td><td>10/24/08 </td><td>M        </td><td>32       </td><td>5        </td><td>4        </td><td>5        </td><td> 5       </td><td> 5       </td><td>Too young</td></tr>\n",
       "\t<tr><td>2        </td><td>10/28/08 </td><td>F        </td><td>45       </td><td>3        </td><td>5        </td><td>2        </td><td> 5       </td><td> 5       </td><td>Too young</td></tr>\n",
       "\t<tr><td>3        </td><td>10/1/08  </td><td>F        </td><td>25       </td><td>3        </td><td>5        </td><td>5        </td><td> 5       </td><td> 2       </td><td>Too young</td></tr>\n",
       "\t<tr><td>4        </td><td>10/12/08 </td><td>M        </td><td>39       </td><td>3        </td><td>3        </td><td>4        </td><td>NA       </td><td>NA       </td><td>Too young</td></tr>\n",
       "\t<tr><td>5        </td><td>5/1/09   </td><td>F        </td><td>99       </td><td>2        </td><td>2        </td><td>1        </td><td> 2       </td><td> 1       </td><td>NA       </td></tr>\n",
       "</tbody>\n",
       "</table>\n"
      ],
      "text/latex": [
       "\\begin{tabular}{r|llllllllll}\n",
       " manager & date & gender & age & q1 & q2 & q3 & q4 & q5 & agecat\\\\\n",
       "\\hline\n",
       "\t 1         & 10/24/08  & M         & 32        & 5         & 4         & 5         &  5        &  5        & Too young\\\\\n",
       "\t 2         & 10/28/08  & F         & 45        & 3         & 5         & 2         &  5        &  5        & Too young\\\\\n",
       "\t 3         & 10/1/08   & F         & 25        & 3         & 5         & 5         &  5        &  2        & Too young\\\\\n",
       "\t 4         & 10/12/08  & M         & 39        & 3         & 3         & 4         & NA        & NA        & Too young\\\\\n",
       "\t 5         & 5/1/09    & F         & 99        & 2         & 2         & 1         &  2        &  1        & NA       \\\\\n",
       "\\end{tabular}\n"
      ],
      "text/markdown": [
       "\n",
       "manager | date | gender | age | q1 | q2 | q3 | q4 | q5 | agecat | \n",
       "|---|---|---|---|---|\n",
       "| 1         | 10/24/08  | M         | 32        | 5         | 4         | 5         |  5        |  5        | Too young | \n",
       "| 2         | 10/28/08  | F         | 45        | 3         | 5         | 2         |  5        |  5        | Too young | \n",
       "| 3         | 10/1/08   | F         | 25        | 3         | 5         | 5         |  5        |  2        | Too young | \n",
       "| 4         | 10/12/08  | M         | 39        | 3         | 3         | 4         | NA        | NA        | Too young | \n",
       "| 5         | 5/1/09    | F         | 99        | 2         | 2         | 1         |  2        |  1        | NA        | \n",
       "\n",
       "\n"
      ],
      "text/plain": [
       "  manager date     gender age q1 q2 q3 q4 q5 agecat   \n",
       "1 1       10/24/08 M      32  5  4  5   5  5 Too young\n",
       "2 2       10/28/08 F      45  3  5  2   5  5 Too young\n",
       "3 3       10/1/08  F      25  3  5  5   5  2 Too young\n",
       "4 4       10/12/08 M      39  3  3  4  NA NA Too young\n",
       "5 5       5/1/09   F      99  2  2  1   2  1 NA       "
      ]
     },
     "metadata": {},
     "output_type": "display_data"
    }
   ],
   "source": [
    "leadership <- within(leadership, { # within类似with，在leadership空间下。但是可以修改修改数据库\n",
    "    agecat[age == 99] <- NA # 书上代码有问题\n",
    "    agecat[age > 75 & age<99] <- 'Elder' # 长者\n",
    "    agecat[age >= 55 & age <= 75] <- 'Middle Aged'\n",
    "    agecat[age < 55] <- 'Too young'\n",
    "})\n",
    "leadership"
   ]
  },
  {
   "cell_type": "markdown",
   "metadata": {},
   "source": [
    "## 变量的重命名"
   ]
  },
  {
   "cell_type": "code",
   "execution_count": 20,
   "metadata": {},
   "outputs": [],
   "source": [
    "# fix(leadership) # 调出框来调，交互性不错！\n",
    "\n",
    "#下面使用reshape\n",
    "# install.packages('reshape') # 首先要安装\n",
    "library(reshape) # 加载\n",
    "leadership <- rename(leadership, c(manager='managerID', date='testdate'))\n",
    "# leadership"
   ]
  },
  {
   "cell_type": "code",
   "execution_count": 24,
   "metadata": {},
   "outputs": [
    {
     "data": {
      "text/html": [
       "<table>\n",
       "<thead><tr><th scope=col>manager</th><th scope=col>date</th><th scope=col>gender</th><th scope=col>age</th><th scope=col>item1</th><th scope=col>item2</th><th scope=col>item3</th><th scope=col>item4</th><th scope=col>item5</th></tr></thead>\n",
       "<tbody>\n",
       "\t<tr><td>1       </td><td>10/24/08</td><td>M       </td><td>32      </td><td>5       </td><td>4       </td><td>5       </td><td> 5      </td><td> 5      </td></tr>\n",
       "\t<tr><td>2       </td><td>10/28/08</td><td>F       </td><td>45      </td><td>3       </td><td>5       </td><td>2       </td><td> 5      </td><td> 5      </td></tr>\n",
       "\t<tr><td>3       </td><td>10/1/08 </td><td>F       </td><td>25      </td><td>3       </td><td>5       </td><td>5       </td><td> 5      </td><td> 2      </td></tr>\n",
       "\t<tr><td>4       </td><td>10/12/08</td><td>M       </td><td>39      </td><td>3       </td><td>3       </td><td>4       </td><td>NA      </td><td>NA      </td></tr>\n",
       "\t<tr><td>5       </td><td>5/1/09  </td><td>F       </td><td>99      </td><td>2       </td><td>2       </td><td>1       </td><td> 2      </td><td> 1      </td></tr>\n",
       "</tbody>\n",
       "</table>\n"
      ],
      "text/latex": [
       "\\begin{tabular}{r|lllllllll}\n",
       " manager & date & gender & age & item1 & item2 & item3 & item4 & item5\\\\\n",
       "\\hline\n",
       "\t 1        & 10/24/08 & M        & 32       & 5        & 4        & 5        &  5       &  5      \\\\\n",
       "\t 2        & 10/28/08 & F        & 45       & 3        & 5        & 2        &  5       &  5      \\\\\n",
       "\t 3        & 10/1/08  & F        & 25       & 3        & 5        & 5        &  5       &  2      \\\\\n",
       "\t 4        & 10/12/08 & M        & 39       & 3        & 3        & 4        & NA       & NA      \\\\\n",
       "\t 5        & 5/1/09   & F        & 99       & 2        & 2        & 1        &  2       &  1      \\\\\n",
       "\\end{tabular}\n"
      ],
      "text/markdown": [
       "\n",
       "manager | date | gender | age | item1 | item2 | item3 | item4 | item5 | \n",
       "|---|---|---|---|---|\n",
       "| 1        | 10/24/08 | M        | 32       | 5        | 4        | 5        |  5       |  5       | \n",
       "| 2        | 10/28/08 | F        | 45       | 3        | 5        | 2        |  5       |  5       | \n",
       "| 3        | 10/1/08  | F        | 25       | 3        | 5        | 5        |  5       |  2       | \n",
       "| 4        | 10/12/08 | M        | 39       | 3        | 3        | 4        | NA       | NA       | \n",
       "| 5        | 5/1/09   | F        | 99       | 2        | 2        | 1        |  2       |  1       | \n",
       "\n",
       "\n"
      ],
      "text/plain": [
       "  manager date     gender age item1 item2 item3 item4 item5\n",
       "1 1       10/24/08 M      32  5     4     5      5     5   \n",
       "2 2       10/28/08 F      45  3     5     2      5     5   \n",
       "3 3       10/1/08  F      25  3     5     5      5     2   \n",
       "4 4       10/12/08 M      39  3     3     4     NA    NA   \n",
       "5 5       5/1/09   F      99  2     2     1      2     1   "
      ]
     },
     "metadata": {},
     "output_type": "display_data"
    }
   ],
   "source": [
    "# 下面使用 names\n",
    "names(leadership)[5:9] <- c('item1', 'item2', 'item3', 'item4', 'item5')\n",
    "leadership"
   ]
  },
  {
   "cell_type": "markdown",
   "metadata": {},
   "source": [
    "## 缺失值"
   ]
  },
  {
   "cell_type": "code",
   "execution_count": 30,
   "metadata": {},
   "outputs": [
    {
     "data": {
      "text/html": [
       "<ol class=list-inline>\n",
       "\t<li>FALSE</li>\n",
       "\t<li>FALSE</li>\n",
       "\t<li>FALSE</li>\n",
       "\t<li>TRUE</li>\n",
       "</ol>\n"
      ],
      "text/latex": [
       "\\begin{enumerate*}\n",
       "\\item FALSE\n",
       "\\item FALSE\n",
       "\\item FALSE\n",
       "\\item TRUE\n",
       "\\end{enumerate*}\n"
      ],
      "text/markdown": [
       "1. FALSE\n",
       "2. FALSE\n",
       "3. FALSE\n",
       "4. TRUE\n",
       "\n",
       "\n"
      ],
      "text/plain": [
       "[1] FALSE FALSE FALSE  TRUE"
      ]
     },
     "metadata": {},
     "output_type": "display_data"
    }
   ],
   "source": [
    "y <- c(1,2,3,NA)\n",
    "is.na(y)"
   ]
  },
  {
   "cell_type": "code",
   "execution_count": 32,
   "metadata": {},
   "outputs": [
    {
     "data": {
      "text/html": [
       "<table>\n",
       "<thead><tr><th scope=col>item1</th><th scope=col>item2</th><th scope=col>item3</th><th scope=col>item4</th><th scope=col>item5</th></tr></thead>\n",
       "<tbody>\n",
       "\t<tr><td>FALSE</td><td>FALSE</td><td>FALSE</td><td>FALSE</td><td>FALSE</td></tr>\n",
       "\t<tr><td>FALSE</td><td>FALSE</td><td>FALSE</td><td>FALSE</td><td>FALSE</td></tr>\n",
       "\t<tr><td>FALSE</td><td>FALSE</td><td>FALSE</td><td>FALSE</td><td>FALSE</td></tr>\n",
       "\t<tr><td>FALSE</td><td>FALSE</td><td>FALSE</td><td> TRUE</td><td> TRUE</td></tr>\n",
       "\t<tr><td>FALSE</td><td>FALSE</td><td>FALSE</td><td>FALSE</td><td>FALSE</td></tr>\n",
       "</tbody>\n",
       "</table>\n"
      ],
      "text/latex": [
       "\\begin{tabular}{lllll}\n",
       " item1 & item2 & item3 & item4 & item5\\\\\n",
       "\\hline\n",
       "\t FALSE & FALSE & FALSE & FALSE & FALSE\\\\\n",
       "\t FALSE & FALSE & FALSE & FALSE & FALSE\\\\\n",
       "\t FALSE & FALSE & FALSE & FALSE & FALSE\\\\\n",
       "\t FALSE & FALSE & FALSE &  TRUE &  TRUE\\\\\n",
       "\t FALSE & FALSE & FALSE & FALSE & FALSE\\\\\n",
       "\\end{tabular}\n"
      ],
      "text/markdown": [
       "\n",
       "item1 | item2 | item3 | item4 | item5 | \n",
       "|---|---|---|---|---|\n",
       "| FALSE | FALSE | FALSE | FALSE | FALSE | \n",
       "| FALSE | FALSE | FALSE | FALSE | FALSE | \n",
       "| FALSE | FALSE | FALSE | FALSE | FALSE | \n",
       "| FALSE | FALSE | FALSE |  TRUE |  TRUE | \n",
       "| FALSE | FALSE | FALSE | FALSE | FALSE | \n",
       "\n",
       "\n"
      ],
      "text/plain": [
       "     item1 item2 item3 item4 item5\n",
       "[1,] FALSE FALSE FALSE FALSE FALSE\n",
       "[2,] FALSE FALSE FALSE FALSE FALSE\n",
       "[3,] FALSE FALSE FALSE FALSE FALSE\n",
       "[4,] FALSE FALSE FALSE  TRUE  TRUE\n",
       "[5,] FALSE FALSE FALSE FALSE FALSE"
      ]
     },
     "metadata": {},
     "output_type": "display_data"
    }
   ],
   "source": [
    "is.na(leadership[,5:9])"
   ]
  },
  {
   "cell_type": "code",
   "execution_count": 34,
   "metadata": {},
   "outputs": [
    {
     "data": {
      "text/html": [
       "6"
      ],
      "text/latex": [
       "6"
      ],
      "text/markdown": [
       "6"
      ],
      "text/plain": [
       "[1] 6"
      ]
     },
     "metadata": {},
     "output_type": "display_data"
    }
   ],
   "source": [
    "# 计算时移出缺失值\n",
    "x <- c(1,2,NA,3)\n",
    "y <- sum(x, na.rm=TRUE)\n",
    "y"
   ]
  },
  {
   "cell_type": "code",
   "execution_count": 4,
   "metadata": {},
   "outputs": [
    {
     "data": {
      "text/html": [
       "<table>\n",
       "<thead><tr><th scope=col>manager</th><th scope=col>date</th><th scope=col>gender</th><th scope=col>age</th><th scope=col>q1</th><th scope=col>q2</th><th scope=col>q3</th><th scope=col>q4</th><th scope=col>q5</th></tr></thead>\n",
       "<tbody>\n",
       "\t<tr><td>1       </td><td>10/24/08</td><td>M       </td><td>32      </td><td>5       </td><td>4       </td><td>5       </td><td> 5      </td><td> 5      </td></tr>\n",
       "\t<tr><td>2       </td><td>10/28/08</td><td>F       </td><td>45      </td><td>3       </td><td>5       </td><td>2       </td><td> 5      </td><td> 5      </td></tr>\n",
       "\t<tr><td>3       </td><td>10/1/08 </td><td>F       </td><td>25      </td><td>3       </td><td>5       </td><td>5       </td><td> 5      </td><td> 2      </td></tr>\n",
       "\t<tr><td>4       </td><td>10/12/08</td><td>M       </td><td>39      </td><td>3       </td><td>3       </td><td>4       </td><td>NA      </td><td>NA      </td></tr>\n",
       "\t<tr><td>5       </td><td>5/1/09  </td><td>F       </td><td>99      </td><td>2       </td><td>2       </td><td>1       </td><td> 2      </td><td> 1      </td></tr>\n",
       "</tbody>\n",
       "</table>\n"
      ],
      "text/latex": [
       "\\begin{tabular}{r|lllllllll}\n",
       " manager & date & gender & age & q1 & q2 & q3 & q4 & q5\\\\\n",
       "\\hline\n",
       "\t 1        & 10/24/08 & M        & 32       & 5        & 4        & 5        &  5       &  5      \\\\\n",
       "\t 2        & 10/28/08 & F        & 45       & 3        & 5        & 2        &  5       &  5      \\\\\n",
       "\t 3        & 10/1/08  & F        & 25       & 3        & 5        & 5        &  5       &  2      \\\\\n",
       "\t 4        & 10/12/08 & M        & 39       & 3        & 3        & 4        & NA       & NA      \\\\\n",
       "\t 5        & 5/1/09   & F        & 99       & 2        & 2        & 1        &  2       &  1      \\\\\n",
       "\\end{tabular}\n"
      ],
      "text/markdown": [
       "\n",
       "manager | date | gender | age | q1 | q2 | q3 | q4 | q5 | \n",
       "|---|---|---|---|---|\n",
       "| 1        | 10/24/08 | M        | 32       | 5        | 4        | 5        |  5       |  5       | \n",
       "| 2        | 10/28/08 | F        | 45       | 3        | 5        | 2        |  5       |  5       | \n",
       "| 3        | 10/1/08  | F        | 25       | 3        | 5        | 5        |  5       |  2       | \n",
       "| 4        | 10/12/08 | M        | 39       | 3        | 3        | 4        | NA       | NA       | \n",
       "| 5        | 5/1/09   | F        | 99       | 2        | 2        | 1        |  2       |  1       | \n",
       "\n",
       "\n"
      ],
      "text/plain": [
       "  manager date     gender age q1 q2 q3 q4 q5\n",
       "1 1       10/24/08 M      32  5  4  5   5  5\n",
       "2 2       10/28/08 F      45  3  5  2   5  5\n",
       "3 3       10/1/08  F      25  3  5  5   5  2\n",
       "4 4       10/12/08 M      39  3  3  4  NA NA\n",
       "5 5       5/1/09   F      99  2  2  1   2  1"
      ]
     },
     "metadata": {},
     "output_type": "display_data"
    },
    {
     "data": {
      "text/html": [
       "<table>\n",
       "<thead><tr><th></th><th scope=col>manager</th><th scope=col>date</th><th scope=col>gender</th><th scope=col>age</th><th scope=col>q1</th><th scope=col>q2</th><th scope=col>q3</th><th scope=col>q4</th><th scope=col>q5</th></tr></thead>\n",
       "<tbody>\n",
       "\t<tr><th scope=row>1</th><td>1       </td><td>10/24/08</td><td>M       </td><td>32      </td><td>5       </td><td>4       </td><td>5       </td><td>5       </td><td>5       </td></tr>\n",
       "\t<tr><th scope=row>2</th><td>2       </td><td>10/28/08</td><td>F       </td><td>45      </td><td>3       </td><td>5       </td><td>2       </td><td>5       </td><td>5       </td></tr>\n",
       "\t<tr><th scope=row>3</th><td>3       </td><td>10/1/08 </td><td>F       </td><td>25      </td><td>3       </td><td>5       </td><td>5       </td><td>5       </td><td>2       </td></tr>\n",
       "\t<tr><th scope=row>5</th><td>5       </td><td>5/1/09  </td><td>F       </td><td>99      </td><td>2       </td><td>2       </td><td>1       </td><td>2       </td><td>1       </td></tr>\n",
       "</tbody>\n",
       "</table>\n"
      ],
      "text/latex": [
       "\\begin{tabular}{r|lllllllll}\n",
       "  & manager & date & gender & age & q1 & q2 & q3 & q4 & q5\\\\\n",
       "\\hline\n",
       "\t1 & 1        & 10/24/08 & M        & 32       & 5        & 4        & 5        & 5        & 5       \\\\\n",
       "\t2 & 2        & 10/28/08 & F        & 45       & 3        & 5        & 2        & 5        & 5       \\\\\n",
       "\t3 & 3        & 10/1/08  & F        & 25       & 3        & 5        & 5        & 5        & 2       \\\\\n",
       "\t5 & 5        & 5/1/09   & F        & 99       & 2        & 2        & 1        & 2        & 1       \\\\\n",
       "\\end{tabular}\n"
      ],
      "text/markdown": [
       "\n",
       "| <!--/--> | manager | date | gender | age | q1 | q2 | q3 | q4 | q5 | \n",
       "|---|---|---|---|\n",
       "| 1 | 1        | 10/24/08 | M        | 32       | 5        | 4        | 5        | 5        | 5        | \n",
       "| 2 | 2        | 10/28/08 | F        | 45       | 3        | 5        | 2        | 5        | 5        | \n",
       "| 3 | 3        | 10/1/08  | F        | 25       | 3        | 5        | 5        | 5        | 2        | \n",
       "| 5 | 5        | 5/1/09   | F        | 99       | 2        | 2        | 1        | 2        | 1        | \n",
       "\n",
       "\n"
      ],
      "text/plain": [
       "  manager date     gender age q1 q2 q3 q4 q5\n",
       "1 1       10/24/08 M      32  5  4  5  5  5 \n",
       "2 2       10/28/08 F      45  3  5  2  5  5 \n",
       "3 3       10/1/08  F      25  3  5  5  5  2 \n",
       "5 5       5/1/09   F      99  2  2  1  2  1 "
      ]
     },
     "metadata": {},
     "output_type": "display_data"
    }
   ],
   "source": [
    "leadership\n",
    "newdata <- na.omit(leadership)\n",
    "newdata"
   ]
  },
  {
   "cell_type": "markdown",
   "metadata": {},
   "source": [
    "## 日期值"
   ]
  },
  {
   "cell_type": "code",
   "execution_count": 20,
   "metadata": {},
   "outputs": [
    {
     "data": {
      "text/html": [
       "<ol class=list-inline>\n",
       "\t<li><time datetime=\"2018-09-05\">2018-09-05</time></li>\n",
       "\t<li><time datetime=\"1926-08-17\">1926-08-17</time></li>\n",
       "</ol>\n"
      ],
      "text/latex": [
       "\\begin{enumerate*}\n",
       "\\item 2018-09-05\n",
       "\\item 1926-08-17\n",
       "\\end{enumerate*}\n"
      ],
      "text/markdown": [
       "1. 2018-09-05\n",
       "2. 1926-08-17\n",
       "\n",
       "\n"
      ],
      "text/plain": [
       "[1] \"2018-09-05\" \"1926-08-17\""
      ]
     },
     "metadata": {},
     "output_type": "display_data"
    },
    {
     "data": {
      "text/html": [
       "<ol class=list-inline>\n",
       "\t<li><time datetime=\"1965-01-05\">1965-01-05</time></li>\n",
       "\t<li><time datetime=\"1926-08-17\">1926-08-17</time></li>\n",
       "</ol>\n"
      ],
      "text/latex": [
       "\\begin{enumerate*}\n",
       "\\item 1965-01-05\n",
       "\\item 1926-08-17\n",
       "\\end{enumerate*}\n"
      ],
      "text/markdown": [
       "1. 1965-01-05\n",
       "2. 1926-08-17\n",
       "\n",
       "\n"
      ],
      "text/plain": [
       "[1] \"1965-01-05\" \"1926-08-17\""
      ]
     },
     "metadata": {},
     "output_type": "display_data"
    }
   ],
   "source": [
    "mydates <- as.Date(c('2018-09-05', '1926-08-17')) # 默认为yyyy-mm-dd\n",
    "mydates\n",
    "dates <- as.Date(c('01/05/1965', '08/17/1926'), '%m/%d/%Y')\n",
    "dates"
   ]
  },
  {
   "cell_type": "code",
   "execution_count": 17,
   "metadata": {},
   "outputs": [
    {
     "data": {
      "text/html": [
       "<time datetime=\"2018-09-05\">2018-09-05</time>"
      ],
      "text/latex": [
       "2018-09-05"
      ],
      "text/markdown": [
       "2018-09-05"
      ],
      "text/plain": [
       "[1] \"2018-09-05\""
      ]
     },
     "metadata": {},
     "output_type": "display_data"
    },
    {
     "data": {
      "text/html": [
       "'Wed Sep 05 10:02:44 2018'"
      ],
      "text/latex": [
       "'Wed Sep 05 10:02:44 2018'"
      ],
      "text/markdown": [
       "'Wed Sep 05 10:02:44 2018'"
      ],
      "text/plain": [
       "[1] \"Wed Sep 05 10:02:44 2018\""
      ]
     },
     "metadata": {},
     "output_type": "display_data"
    },
    {
     "data": {
      "text/html": [
       "'2018 九月 05 星期三'"
      ],
      "text/latex": [
       "'2018 九月 05 星期三'"
      ],
      "text/markdown": [
       "'2018 九月 05 星期三'"
      ],
      "text/plain": [
       "[1] \"2018 九月 05 星期三\""
      ]
     },
     "metadata": {},
     "output_type": "display_data"
    },
    {
     "data": {
      "text/html": [
       "'Wed Sep 05 10:02:44 2018'"
      ],
      "text/latex": [
       "'Wed Sep 05 10:02:44 2018'"
      ],
      "text/markdown": [
       "'Wed Sep 05 10:02:44 2018'"
      ],
      "text/plain": [
       "[1] \"Wed Sep 05 10:02:44 2018\""
      ]
     },
     "metadata": {},
     "output_type": "display_data"
    }
   ],
   "source": [
    "# 时间戳\n",
    "Sys.Date()\n",
    "date()\n",
    "\n",
    "# 格式化时间\n",
    "format(Sys.Date(), format='%Y %B %d %A')  # 这特么居然是中文...\n",
    "format(date(), format='%Y %B %d %A') "
   ]
  },
  {
   "cell_type": "code",
   "execution_count": 24,
   "metadata": {},
   "outputs": [
    {
     "data": {
      "text/plain": [
       "Time difference of 33622 days"
      ]
     },
     "metadata": {},
     "output_type": "display_data"
    },
    {
     "data": {
      "text/html": [
       "'Wed Sep 05 10:14:03 2018'"
      ],
      "text/latex": [
       "'Wed Sep 05 10:14:03 2018'"
      ],
      "text/markdown": [
       "'Wed Sep 05 10:14:03 2018'"
      ],
      "text/plain": [
       "[1] \"Wed Sep 05 10:14:03 2018\""
      ]
     },
     "metadata": {},
     "output_type": "display_data"
    }
   ],
   "source": [
    "# 时间间隔\n",
    "days <- mydates[1] - mydates[2]\n",
    "days # 长者活的天数\n",
    "\n",
    "# 日期转字符型\n",
    "strDates <- as.character(date())\n",
    "strDates"
   ]
  },
  {
   "cell_type": "markdown",
   "metadata": {},
   "source": [
    "## 类型转换"
   ]
  },
  {
   "cell_type": "code",
   "execution_count": 36,
   "metadata": {},
   "outputs": [
    {
     "data": {
      "text/html": [
       "TRUE"
      ],
      "text/latex": [
       "TRUE"
      ],
      "text/markdown": [
       "TRUE"
      ],
      "text/plain": [
       "[1] TRUE"
      ]
     },
     "metadata": {},
     "output_type": "display_data"
    }
   ],
   "source": [
    "# 判断用is.，转换用as.\n",
    "is.vector(seq(10))"
   ]
  },
  {
   "cell_type": "markdown",
   "metadata": {},
   "source": [
    "## 数据排序"
   ]
  },
  {
   "cell_type": "code",
   "execution_count": 47,
   "metadata": {},
   "outputs": [
    {
     "name": "stderr",
     "output_type": "stream",
     "text": [
      "The following objects are masked _by_ .GlobalEnv:\n",
      "\n",
      "    age, date, gender, manager, q1, q2, q3, q4, q5\n",
      "\n"
     ]
    },
    {
     "data": {
      "text/html": [
       "<table>\n",
       "<thead><tr><th scope=col>q1</th><th scope=col>date</th><th scope=col>gender</th><th scope=col>age</th><th scope=col>manager</th></tr></thead>\n",
       "<tbody>\n",
       "\t<tr><td>5       </td><td>10/24/08</td><td>M       </td><td>32      </td><td>1       </td></tr>\n",
       "\t<tr><td>3       </td><td>10/28/08</td><td>F       </td><td>45      </td><td>2       </td></tr>\n",
       "\t<tr><td>3       </td><td>10/1/08 </td><td>F       </td><td>25      </td><td>3       </td></tr>\n",
       "\t<tr><td>3       </td><td>10/12/08</td><td>M       </td><td>39      </td><td>4       </td></tr>\n",
       "\t<tr><td>2       </td><td>5/1/09  </td><td>F       </td><td>99      </td><td>5       </td></tr>\n",
       "</tbody>\n",
       "</table>\n"
      ],
      "text/latex": [
       "\\begin{tabular}{r|lllll}\n",
       " q1 & date & gender & age & manager\\\\\n",
       "\\hline\n",
       "\t 5        & 10/24/08 & M        & 32       & 1       \\\\\n",
       "\t 3        & 10/28/08 & F        & 45       & 2       \\\\\n",
       "\t 3        & 10/1/08  & F        & 25       & 3       \\\\\n",
       "\t 3        & 10/12/08 & M        & 39       & 4       \\\\\n",
       "\t 2        & 5/1/09   & F        & 99       & 5       \\\\\n",
       "\\end{tabular}\n"
      ],
      "text/markdown": [
       "\n",
       "q1 | date | gender | age | manager | \n",
       "|---|---|---|---|---|\n",
       "| 5        | 10/24/08 | M        | 32       | 1        | \n",
       "| 3        | 10/28/08 | F        | 45       | 2        | \n",
       "| 3        | 10/1/08  | F        | 25       | 3        | \n",
       "| 3        | 10/12/08 | M        | 39       | 4        | \n",
       "| 2        | 5/1/09   | F        | 99       | 5        | \n",
       "\n",
       "\n"
      ],
      "text/plain": [
       "  q1 date     gender age manager\n",
       "1 5  10/24/08 M      32  1      \n",
       "2 3  10/28/08 F      45  2      \n",
       "3 3  10/1/08  F      25  3      \n",
       "4 3  10/12/08 M      39  4      \n",
       "5 2  5/1/09   F      99  5      "
      ]
     },
     "metadata": {},
     "output_type": "display_data"
    }
   ],
   "source": [
    "# leadership\n",
    "# newdata <- leadership[order(leadership$age)]\n",
    "# newdata\n",
    "\n",
    "attach(leadership)\n",
    "newdata <- leadership[order(gender, -age)]\n",
    "newdata\n",
    "detach(leadership)\n"
   ]
  },
  {
   "cell_type": "markdown",
   "metadata": {},
   "source": [
    "## 数据集的合并"
   ]
  },
  {
   "cell_type": "code",
   "execution_count": null,
   "metadata": {},
   "outputs": [],
   "source": [
    "# 添加列\n",
    "total <- merge(dataframeA, dataframeB, by='ID') # inner join\n",
    "# 添加行\n",
    "total <- rbind(dataframeA, dataframeB) # 必须有相同的变量"
   ]
  },
  {
   "cell_type": "markdown",
   "metadata": {},
   "source": [
    "## 数据集取子集"
   ]
  },
  {
   "cell_type": "code",
   "execution_count": 55,
   "metadata": {},
   "outputs": [
    {
     "data": {
      "text/html": [
       "<table>\n",
       "<thead><tr><th scope=col>q1</th><th scope=col>q2</th><th scope=col>q3</th><th scope=col>q4</th><th scope=col>q5</th></tr></thead>\n",
       "<tbody>\n",
       "\t<tr><td>5 </td><td>4 </td><td>5 </td><td> 5</td><td> 5</td></tr>\n",
       "\t<tr><td>3 </td><td>5 </td><td>2 </td><td> 5</td><td> 5</td></tr>\n",
       "\t<tr><td>3 </td><td>5 </td><td>5 </td><td> 5</td><td> 2</td></tr>\n",
       "\t<tr><td>3 </td><td>3 </td><td>4 </td><td>NA</td><td>NA</td></tr>\n",
       "\t<tr><td>2 </td><td>2 </td><td>1 </td><td> 2</td><td> 1</td></tr>\n",
       "</tbody>\n",
       "</table>\n"
      ],
      "text/latex": [
       "\\begin{tabular}{r|lllll}\n",
       " q1 & q2 & q3 & q4 & q5\\\\\n",
       "\\hline\n",
       "\t 5  & 4  & 5  &  5 &  5\\\\\n",
       "\t 3  & 5  & 2  &  5 &  5\\\\\n",
       "\t 3  & 5  & 5  &  5 &  2\\\\\n",
       "\t 3  & 3  & 4  & NA & NA\\\\\n",
       "\t 2  & 2  & 1  &  2 &  1\\\\\n",
       "\\end{tabular}\n"
      ],
      "text/markdown": [
       "\n",
       "q1 | q2 | q3 | q4 | q5 | \n",
       "|---|---|---|---|---|\n",
       "| 5  | 4  | 5  |  5 |  5 | \n",
       "| 3  | 5  | 2  |  5 |  5 | \n",
       "| 3  | 5  | 5  |  5 |  2 | \n",
       "| 3  | 3  | 4  | NA | NA | \n",
       "| 2  | 2  | 1  |  2 |  1 | \n",
       "\n",
       "\n"
      ],
      "text/plain": [
       "  q1 q2 q3 q4 q5\n",
       "1 5  4  5   5  5\n",
       "2 3  5  2   5  5\n",
       "3 3  5  5   5  2\n",
       "4 3  3  4  NA NA\n",
       "5 2  2  1   2  1"
      ]
     },
     "metadata": {},
     "output_type": "display_data"
    },
    {
     "data": {
      "text/html": [
       "<table>\n",
       "<thead><tr><th scope=col>q1</th><th scope=col>q2</th></tr></thead>\n",
       "<tbody>\n",
       "\t<tr><td>5</td><td>4</td></tr>\n",
       "\t<tr><td>3</td><td>5</td></tr>\n",
       "\t<tr><td>3</td><td>5</td></tr>\n",
       "\t<tr><td>3</td><td>3</td></tr>\n",
       "\t<tr><td>2</td><td>2</td></tr>\n",
       "</tbody>\n",
       "</table>\n"
      ],
      "text/latex": [
       "\\begin{tabular}{r|ll}\n",
       " q1 & q2\\\\\n",
       "\\hline\n",
       "\t 5 & 4\\\\\n",
       "\t 3 & 5\\\\\n",
       "\t 3 & 5\\\\\n",
       "\t 3 & 3\\\\\n",
       "\t 2 & 2\\\\\n",
       "\\end{tabular}\n"
      ],
      "text/markdown": [
       "\n",
       "q1 | q2 | \n",
       "|---|---|---|---|---|\n",
       "| 5 | 4 | \n",
       "| 3 | 5 | \n",
       "| 3 | 5 | \n",
       "| 3 | 3 | \n",
       "| 2 | 2 | \n",
       "\n",
       "\n"
      ],
      "text/plain": [
       "  q1 q2\n",
       "1 5  4 \n",
       "2 3  5 \n",
       "3 3  5 \n",
       "4 3  3 \n",
       "5 2  2 "
      ]
     },
     "metadata": {},
     "output_type": "display_data"
    },
    {
     "data": {
      "text/html": [
       "<ol class=list-inline>\n",
       "\t<li>'q1'</li>\n",
       "\t<li>'q2'</li>\n",
       "\t<li>'q3'</li>\n",
       "\t<li>'q4'</li>\n",
       "\t<li>'q5'</li>\n",
       "</ol>\n"
      ],
      "text/latex": [
       "\\begin{enumerate*}\n",
       "\\item 'q1'\n",
       "\\item 'q2'\n",
       "\\item 'q3'\n",
       "\\item 'q4'\n",
       "\\item 'q5'\n",
       "\\end{enumerate*}\n"
      ],
      "text/markdown": [
       "1. 'q1'\n",
       "2. 'q2'\n",
       "3. 'q3'\n",
       "4. 'q4'\n",
       "5. 'q5'\n",
       "\n",
       "\n"
      ],
      "text/plain": [
       "[1] \"q1\" \"q2\" \"q3\" \"q4\" \"q5\""
      ]
     },
     "metadata": {},
     "output_type": "display_data"
    }
   ],
   "source": [
    "newdata <- leadership[, c(5:9)] # 按列序号选取所有行\n",
    "newdata\n",
    "newdata <- leadership[, c('q1', 'q2')] # 按列名选取\n",
    "newdata\n",
    "\n",
    "# 更方便地创建字符型变量\n",
    "myvars <- paste('q', 1:5, sep='')\n",
    "myvars"
   ]
  },
  {
   "cell_type": "code",
   "execution_count": 59,
   "metadata": {},
   "outputs": [
    {
     "data": {
      "text/html": [
       "<ol class=list-inline>\n",
       "\t<li>FALSE</li>\n",
       "\t<li>FALSE</li>\n",
       "\t<li>FALSE</li>\n",
       "\t<li>FALSE</li>\n",
       "\t<li>FALSE</li>\n",
       "\t<li>FALSE</li>\n",
       "\t<li>TRUE</li>\n",
       "\t<li>TRUE</li>\n",
       "\t<li>FALSE</li>\n",
       "</ol>\n"
      ],
      "text/latex": [
       "\\begin{enumerate*}\n",
       "\\item FALSE\n",
       "\\item FALSE\n",
       "\\item FALSE\n",
       "\\item FALSE\n",
       "\\item FALSE\n",
       "\\item FALSE\n",
       "\\item TRUE\n",
       "\\item TRUE\n",
       "\\item FALSE\n",
       "\\end{enumerate*}\n"
      ],
      "text/markdown": [
       "1. FALSE\n",
       "2. FALSE\n",
       "3. FALSE\n",
       "4. FALSE\n",
       "5. FALSE\n",
       "6. FALSE\n",
       "7. TRUE\n",
       "8. TRUE\n",
       "9. FALSE\n",
       "\n",
       "\n"
      ],
      "text/plain": [
       "[1] FALSE FALSE FALSE FALSE FALSE FALSE  TRUE  TRUE FALSE"
      ]
     },
     "metadata": {},
     "output_type": "display_data"
    },
    {
     "data": {
      "text/html": [
       "<table>\n",
       "<thead><tr><th scope=col>manager</th><th scope=col>date</th><th scope=col>gender</th><th scope=col>age</th><th scope=col>q1</th><th scope=col>q2</th><th scope=col>q5</th></tr></thead>\n",
       "<tbody>\n",
       "\t<tr><td>1       </td><td>10/24/08</td><td>M       </td><td>32      </td><td>5       </td><td>4       </td><td> 5      </td></tr>\n",
       "\t<tr><td>2       </td><td>10/28/08</td><td>F       </td><td>45      </td><td>3       </td><td>5       </td><td> 5      </td></tr>\n",
       "\t<tr><td>3       </td><td>10/1/08 </td><td>F       </td><td>25      </td><td>3       </td><td>5       </td><td> 2      </td></tr>\n",
       "\t<tr><td>4       </td><td>10/12/08</td><td>M       </td><td>39      </td><td>3       </td><td>3       </td><td>NA      </td></tr>\n",
       "\t<tr><td>5       </td><td>5/1/09  </td><td>F       </td><td>99      </td><td>2       </td><td>2       </td><td> 1      </td></tr>\n",
       "</tbody>\n",
       "</table>\n"
      ],
      "text/latex": [
       "\\begin{tabular}{r|lllllll}\n",
       " manager & date & gender & age & q1 & q2 & q5\\\\\n",
       "\\hline\n",
       "\t 1        & 10/24/08 & M        & 32       & 5        & 4        &  5      \\\\\n",
       "\t 2        & 10/28/08 & F        & 45       & 3        & 5        &  5      \\\\\n",
       "\t 3        & 10/1/08  & F        & 25       & 3        & 5        &  2      \\\\\n",
       "\t 4        & 10/12/08 & M        & 39       & 3        & 3        & NA      \\\\\n",
       "\t 5        & 5/1/09   & F        & 99       & 2        & 2        &  1      \\\\\n",
       "\\end{tabular}\n"
      ],
      "text/markdown": [
       "\n",
       "manager | date | gender | age | q1 | q2 | q5 | \n",
       "|---|---|---|---|---|\n",
       "| 1        | 10/24/08 | M        | 32       | 5        | 4        |  5       | \n",
       "| 2        | 10/28/08 | F        | 45       | 3        | 5        |  5       | \n",
       "| 3        | 10/1/08  | F        | 25       | 3        | 5        |  2       | \n",
       "| 4        | 10/12/08 | M        | 39       | 3        | 3        | NA       | \n",
       "| 5        | 5/1/09   | F        | 99       | 2        | 2        |  1       | \n",
       "\n",
       "\n"
      ],
      "text/plain": [
       "  manager date     gender age q1 q2 q5\n",
       "1 1       10/24/08 M      32  5  4   5\n",
       "2 2       10/28/08 F      45  3  5   5\n",
       "3 3       10/1/08  F      25  3  5   2\n",
       "4 4       10/12/08 M      39  3  3  NA\n",
       "5 5       5/1/09   F      99  2  2   1"
      ]
     },
     "metadata": {},
     "output_type": "display_data"
    },
    {
     "data": {
      "text/html": [
       "<table>\n",
       "<thead><tr><th scope=col>manager</th><th scope=col>date</th><th scope=col>gender</th><th scope=col>age</th><th scope=col>q1</th><th scope=col>q2</th><th scope=col>q3</th></tr></thead>\n",
       "<tbody>\n",
       "\t<tr><td>1       </td><td>10/24/08</td><td>M       </td><td>32      </td><td>5       </td><td>4       </td><td>5       </td></tr>\n",
       "\t<tr><td>2       </td><td>10/28/08</td><td>F       </td><td>45      </td><td>3       </td><td>5       </td><td>2       </td></tr>\n",
       "\t<tr><td>3       </td><td>10/1/08 </td><td>F       </td><td>25      </td><td>3       </td><td>5       </td><td>5       </td></tr>\n",
       "\t<tr><td>4       </td><td>10/12/08</td><td>M       </td><td>39      </td><td>3       </td><td>3       </td><td>4       </td></tr>\n",
       "\t<tr><td>5       </td><td>5/1/09  </td><td>F       </td><td>99      </td><td>2       </td><td>2       </td><td>1       </td></tr>\n",
       "</tbody>\n",
       "</table>\n"
      ],
      "text/latex": [
       "\\begin{tabular}{r|lllllll}\n",
       " manager & date & gender & age & q1 & q2 & q3\\\\\n",
       "\\hline\n",
       "\t 1        & 10/24/08 & M        & 32       & 5        & 4        & 5       \\\\\n",
       "\t 2        & 10/28/08 & F        & 45       & 3        & 5        & 2       \\\\\n",
       "\t 3        & 10/1/08  & F        & 25       & 3        & 5        & 5       \\\\\n",
       "\t 4        & 10/12/08 & M        & 39       & 3        & 3        & 4       \\\\\n",
       "\t 5        & 5/1/09   & F        & 99       & 2        & 2        & 1       \\\\\n",
       "\\end{tabular}\n"
      ],
      "text/markdown": [
       "\n",
       "manager | date | gender | age | q1 | q2 | q3 | \n",
       "|---|---|---|---|---|\n",
       "| 1        | 10/24/08 | M        | 32       | 5        | 4        | 5        | \n",
       "| 2        | 10/28/08 | F        | 45       | 3        | 5        | 2        | \n",
       "| 3        | 10/1/08  | F        | 25       | 3        | 5        | 5        | \n",
       "| 4        | 10/12/08 | M        | 39       | 3        | 3        | 4        | \n",
       "| 5        | 5/1/09   | F        | 99       | 2        | 2        | 1        | \n",
       "\n",
       "\n"
      ],
      "text/plain": [
       "  manager date     gender age q1 q2 q3\n",
       "1 1       10/24/08 M      32  5  4  5 \n",
       "2 2       10/28/08 F      45  3  5  2 \n",
       "3 3       10/1/08  F      25  3  5  5 \n",
       "4 4       10/12/08 M      39  3  3  4 \n",
       "5 5       5/1/09   F      99  2  2  1 "
      ]
     },
     "metadata": {},
     "output_type": "display_data"
    },
    {
     "data": {
      "text/html": [
       "<table>\n",
       "<thead><tr><th scope=col>manager</th><th scope=col>date</th><th scope=col>gender</th><th scope=col>age</th><th scope=col>q1</th><th scope=col>q2</th><th scope=col>q5</th></tr></thead>\n",
       "<tbody>\n",
       "\t<tr><td>1       </td><td>10/24/08</td><td>M       </td><td>32      </td><td>5       </td><td>4       </td><td> 5      </td></tr>\n",
       "\t<tr><td>2       </td><td>10/28/08</td><td>F       </td><td>45      </td><td>3       </td><td>5       </td><td> 5      </td></tr>\n",
       "\t<tr><td>3       </td><td>10/1/08 </td><td>F       </td><td>25      </td><td>3       </td><td>5       </td><td> 2      </td></tr>\n",
       "\t<tr><td>4       </td><td>10/12/08</td><td>M       </td><td>39      </td><td>3       </td><td>3       </td><td>NA      </td></tr>\n",
       "\t<tr><td>5       </td><td>5/1/09  </td><td>F       </td><td>99      </td><td>2       </td><td>2       </td><td> 1      </td></tr>\n",
       "</tbody>\n",
       "</table>\n"
      ],
      "text/latex": [
       "\\begin{tabular}{r|lllllll}\n",
       " manager & date & gender & age & q1 & q2 & q5\\\\\n",
       "\\hline\n",
       "\t 1        & 10/24/08 & M        & 32       & 5        & 4        &  5      \\\\\n",
       "\t 2        & 10/28/08 & F        & 45       & 3        & 5        &  5      \\\\\n",
       "\t 3        & 10/1/08  & F        & 25       & 3        & 5        &  2      \\\\\n",
       "\t 4        & 10/12/08 & M        & 39       & 3        & 3        & NA      \\\\\n",
       "\t 5        & 5/1/09   & F        & 99       & 2        & 2        &  1      \\\\\n",
       "\\end{tabular}\n"
      ],
      "text/markdown": [
       "\n",
       "manager | date | gender | age | q1 | q2 | q5 | \n",
       "|---|---|---|---|---|\n",
       "| 1        | 10/24/08 | M        | 32       | 5        | 4        |  5       | \n",
       "| 2        | 10/28/08 | F        | 45       | 3        | 5        |  5       | \n",
       "| 3        | 10/1/08  | F        | 25       | 3        | 5        |  2       | \n",
       "| 4        | 10/12/08 | M        | 39       | 3        | 3        | NA       | \n",
       "| 5        | 5/1/09   | F        | 99       | 2        | 2        |  1       | \n",
       "\n",
       "\n"
      ],
      "text/plain": [
       "  manager date     gender age q1 q2 q5\n",
       "1 1       10/24/08 M      32  5  4   5\n",
       "2 2       10/28/08 F      45  3  5   5\n",
       "3 3       10/1/08  F      25  3  5   2\n",
       "4 4       10/12/08 M      39  3  3  NA\n",
       "5 5       5/1/09   F      99  2  2   1"
      ]
     },
     "metadata": {},
     "output_type": "display_data"
    }
   ],
   "source": [
    "# 剔除变量\n",
    "myvars <- names(leadership) %in% c('q3', 'q4') # 通过names选取所有变量，然后用%in%判断是否匹配\n",
    "myvars\n",
    "newdata <- leadership[!myvars]# 删除变量q3 q4\n",
    "newdata\n",
    "\n",
    "# 已知序号时可以用减号来剔除\n",
    "newdata <- leadership[c(-8, -9)]\n",
    "newdata\n",
    "\n",
    "# 或者也可以置空\n",
    "newdata <- leadership\n",
    "newdata$q3 <- newdata$q4 <- NULL\n",
    "newdata"
   ]
  },
  {
   "cell_type": "code",
   "execution_count": 72,
   "metadata": {},
   "outputs": [
    {
     "data": {
      "text/html": [
       "<table>\n",
       "<thead><tr><th></th><th scope=col>manager</th><th scope=col>date</th><th scope=col>gender</th><th scope=col>age</th><th scope=col>q1</th><th scope=col>q2</th><th scope=col>q3</th><th scope=col>q4</th><th scope=col>q5</th></tr></thead>\n",
       "<tbody>\n",
       "\t<tr><th scope=row>1</th><td>1       </td><td>10/24/08</td><td>M       </td><td>32      </td><td>5       </td><td>4       </td><td>5       </td><td> 5      </td><td> 5      </td></tr>\n",
       "\t<tr><th scope=row>4</th><td>4       </td><td>10/12/08</td><td>M       </td><td>39      </td><td>3       </td><td>3       </td><td>4       </td><td>NA      </td><td>NA      </td></tr>\n",
       "</tbody>\n",
       "</table>\n"
      ],
      "text/latex": [
       "\\begin{tabular}{r|lllllllll}\n",
       "  & manager & date & gender & age & q1 & q2 & q3 & q4 & q5\\\\\n",
       "\\hline\n",
       "\t1 & 1        & 10/24/08 & M        & 32       & 5        & 4        & 5        &  5       &  5      \\\\\n",
       "\t4 & 4        & 10/12/08 & M        & 39       & 3        & 3        & 4        & NA       & NA      \\\\\n",
       "\\end{tabular}\n"
      ],
      "text/markdown": [
       "\n",
       "| <!--/--> | manager | date | gender | age | q1 | q2 | q3 | q4 | q5 | \n",
       "|---|---|\n",
       "| 1 | 1        | 10/24/08 | M        | 32       | 5        | 4        | 5        |  5       |  5       | \n",
       "| 4 | 4        | 10/12/08 | M        | 39       | 3        | 3        | 4        | NA       | NA       | \n",
       "\n",
       "\n"
      ],
      "text/plain": [
       "  manager date     gender age q1 q2 q3 q4 q5\n",
       "1 1       10/24/08 M      32  5  4  5   5  5\n",
       "4 4       10/12/08 M      39  3  3  4  NA NA"
      ]
     },
     "metadata": {},
     "output_type": "display_data"
    },
    {
     "data": {
      "text/html": [
       "<table>\n",
       "<thead><tr><th></th><th scope=col>q1</th><th scope=col>q2</th><th scope=col>q3</th><th scope=col>q4</th></tr></thead>\n",
       "<tbody>\n",
       "\t<tr><th scope=row>2</th><td>3 </td><td>5 </td><td>2 </td><td> 5</td></tr>\n",
       "\t<tr><th scope=row>4</th><td>3 </td><td>3 </td><td>4 </td><td>NA</td></tr>\n",
       "\t<tr><th scope=row>5</th><td>2 </td><td>2 </td><td>1 </td><td> 2</td></tr>\n",
       "</tbody>\n",
       "</table>\n"
      ],
      "text/latex": [
       "\\begin{tabular}{r|llll}\n",
       "  & q1 & q2 & q3 & q4\\\\\n",
       "\\hline\n",
       "\t2 & 3  & 5  & 2  &  5\\\\\n",
       "\t4 & 3  & 3  & 4  & NA\\\\\n",
       "\t5 & 2  & 2  & 1  &  2\\\\\n",
       "\\end{tabular}\n"
      ],
      "text/markdown": [
       "\n",
       "| <!--/--> | q1 | q2 | q3 | q4 | \n",
       "|---|---|---|\n",
       "| 2 | 3  | 5  | 2  |  5 | \n",
       "| 4 | 3  | 3  | 4  | NA | \n",
       "| 5 | 2  | 2  | 1  |  2 | \n",
       "\n",
       "\n"
      ],
      "text/plain": [
       "  q1 q2 q3 q4\n",
       "2 3  5  2   5\n",
       "4 3  3  4  NA\n",
       "5 2  2  1   2"
      ]
     },
     "metadata": {},
     "output_type": "display_data"
    }
   ],
   "source": [
    "# 选入观测\n",
    "newdata <- leadership[1:3,] # 选择1-3行\n",
    "newdata <- leadership[which(leadership$gender=='M' &\n",
    "                           leadership$age > 30),] # 年纪大于30的男性\n",
    "newdata\n",
    "\n",
    "# 使用subset函数\n",
    "newdata <- subset(leadership, age>=35 | age < 24, select=c(q1, q2, q3, q4))\n",
    "newdata"
   ]
  },
  {
   "cell_type": "code",
   "execution_count": 75,
   "metadata": {},
   "outputs": [
    {
     "data": {
      "text/html": [
       "<table>\n",
       "<thead><tr><th scope=col>age</th><th scope=col>manager</th><th scope=col>gender</th></tr></thead>\n",
       "<tbody>\n",
       "\t<tr><td>32</td><td>1 </td><td>M </td></tr>\n",
       "\t<tr><td>45</td><td>2 </td><td>F </td></tr>\n",
       "\t<tr><td>25</td><td>3 </td><td>F </td></tr>\n",
       "\t<tr><td>39</td><td>4 </td><td>M </td></tr>\n",
       "\t<tr><td>99</td><td>5 </td><td>F </td></tr>\n",
       "</tbody>\n",
       "</table>\n"
      ],
      "text/latex": [
       "\\begin{tabular}{r|lll}\n",
       " age & manager & gender\\\\\n",
       "\\hline\n",
       "\t 32 & 1  & M \\\\\n",
       "\t 45 & 2  & F \\\\\n",
       "\t 25 & 3  & F \\\\\n",
       "\t 39 & 4  & M \\\\\n",
       "\t 99 & 5  & F \\\\\n",
       "\\end{tabular}\n"
      ],
      "text/markdown": [
       "\n",
       "age | manager | gender | \n",
       "|---|---|---|---|---|\n",
       "| 32 | 1  | M  | \n",
       "| 45 | 2  | F  | \n",
       "| 25 | 3  | F  | \n",
       "| 39 | 4  | M  | \n",
       "| 99 | 5  | F  | \n",
       "\n",
       "\n"
      ],
      "text/plain": [
       "  age manager gender\n",
       "1 32  1       M     \n",
       "2 45  2       F     \n",
       "3 25  3       F     \n",
       "4 39  4       M     \n",
       "5 99  5       F     "
      ]
     },
     "metadata": {},
     "output_type": "display_data"
    }
   ],
   "source": [
    "# 随机抽样\n",
    "mysample <- leadership[sample(1:nrow(leadership), 3, replace=FALSE)] # 随机抽取不重复地三列\n",
    "mysample"
   ]
  },
  {
   "cell_type": "code",
   "execution_count": 76,
   "metadata": {},
   "outputs": [
    {
     "name": "stderr",
     "output_type": "stream",
     "text": [
      "also installing the dependencies 'bit', 'bit64', 'blob', 'memoise', 'gsubfn', 'proto', 'RSQLite', 'chron'\n",
      "\n"
     ]
    },
    {
     "name": "stdout",
     "output_type": "stream",
     "text": [
      "package 'bit' successfully unpacked and MD5 sums checked\n",
      "package 'bit64' successfully unpacked and MD5 sums checked\n",
      "package 'blob' successfully unpacked and MD5 sums checked\n",
      "package 'memoise' successfully unpacked and MD5 sums checked\n",
      "package 'gsubfn' successfully unpacked and MD5 sums checked\n",
      "package 'proto' successfully unpacked and MD5 sums checked\n",
      "package 'RSQLite' successfully unpacked and MD5 sums checked\n",
      "package 'chron' successfully unpacked and MD5 sums checked\n",
      "package 'sqldf' successfully unpacked and MD5 sums checked\n",
      "\n",
      "The downloaded binary packages are in\n",
      "\tC:\\Users\\lenovo\\AppData\\Local\\Temp\\RtmpIbMEQO\\downloaded_packages\n"
     ]
    }
   ],
   "source": [
    "# 使用sql操作数据框\n",
    "install.packages('sqldf')"
   ]
  },
  {
   "cell_type": "code",
   "execution_count": 79,
   "metadata": {},
   "outputs": [
    {
     "data": {
      "text/html": [
       "<table>\n",
       "<thead><tr><th></th><th scope=col>mpg</th><th scope=col>cyl</th><th scope=col>disp</th><th scope=col>hp</th><th scope=col>drat</th><th scope=col>wt</th><th scope=col>qsec</th><th scope=col>vs</th><th scope=col>am</th><th scope=col>gear</th><th scope=col>carb</th></tr></thead>\n",
       "<tbody>\n",
       "\t<tr><th scope=row>Valiant</th><td>18.1 </td><td>6    </td><td>225.0</td><td>105  </td><td>2.76 </td><td>3.460</td><td>20.22</td><td>1    </td><td>0    </td><td>3    </td><td>1    </td></tr>\n",
       "\t<tr><th scope=row>Hornet 4 Drive</th><td>21.4 </td><td>6    </td><td>258.0</td><td>110  </td><td>3.08 </td><td>3.215</td><td>19.44</td><td>1    </td><td>0    </td><td>3    </td><td>1    </td></tr>\n",
       "\t<tr><th scope=row>Toyota Corona</th><td>21.5 </td><td>4    </td><td>120.1</td><td> 97  </td><td>3.70 </td><td>2.465</td><td>20.01</td><td>1    </td><td>0    </td><td>3    </td><td>1    </td></tr>\n",
       "\t<tr><th scope=row>Datsun 710</th><td>22.8 </td><td>4    </td><td>108.0</td><td> 93  </td><td>3.85 </td><td>2.320</td><td>18.61</td><td>1    </td><td>1    </td><td>4    </td><td>1    </td></tr>\n",
       "\t<tr><th scope=row>Fiat X1-9</th><td>27.3 </td><td>4    </td><td> 79.0</td><td> 66  </td><td>4.08 </td><td>1.935</td><td>18.90</td><td>1    </td><td>1    </td><td>4    </td><td>1    </td></tr>\n",
       "\t<tr><th scope=row>Fiat 128</th><td>32.4 </td><td>4    </td><td> 78.7</td><td> 66  </td><td>4.08 </td><td>2.200</td><td>19.47</td><td>1    </td><td>1    </td><td>4    </td><td>1    </td></tr>\n",
       "\t<tr><th scope=row>Toyota Corolla</th><td>33.9 </td><td>4    </td><td> 71.1</td><td> 65  </td><td>4.22 </td><td>1.835</td><td>19.90</td><td>1    </td><td>1    </td><td>4    </td><td>1    </td></tr>\n",
       "</tbody>\n",
       "</table>\n"
      ],
      "text/latex": [
       "\\begin{tabular}{r|lllllllllll}\n",
       "  & mpg & cyl & disp & hp & drat & wt & qsec & vs & am & gear & carb\\\\\n",
       "\\hline\n",
       "\tValiant & 18.1  & 6     & 225.0 & 105   & 2.76  & 3.460 & 20.22 & 1     & 0     & 3     & 1    \\\\\n",
       "\tHornet 4 Drive & 21.4  & 6     & 258.0 & 110   & 3.08  & 3.215 & 19.44 & 1     & 0     & 3     & 1    \\\\\n",
       "\tToyota Corona & 21.5  & 4     & 120.1 &  97   & 3.70  & 2.465 & 20.01 & 1     & 0     & 3     & 1    \\\\\n",
       "\tDatsun 710 & 22.8  & 4     & 108.0 &  93   & 3.85  & 2.320 & 18.61 & 1     & 1     & 4     & 1    \\\\\n",
       "\tFiat X1-9 & 27.3  & 4     &  79.0 &  66   & 4.08  & 1.935 & 18.90 & 1     & 1     & 4     & 1    \\\\\n",
       "\tFiat 128 & 32.4  & 4     &  78.7 &  66   & 4.08  & 2.200 & 19.47 & 1     & 1     & 4     & 1    \\\\\n",
       "\tToyota Corolla & 33.9  & 4     &  71.1 &  65   & 4.22  & 1.835 & 19.90 & 1     & 1     & 4     & 1    \\\\\n",
       "\\end{tabular}\n"
      ],
      "text/markdown": [
       "\n",
       "| <!--/--> | mpg | cyl | disp | hp | drat | wt | qsec | vs | am | gear | carb | \n",
       "|---|---|---|---|---|---|---|\n",
       "| Valiant | 18.1  | 6     | 225.0 | 105   | 2.76  | 3.460 | 20.22 | 1     | 0     | 3     | 1     | \n",
       "| Hornet 4 Drive | 21.4  | 6     | 258.0 | 110   | 3.08  | 3.215 | 19.44 | 1     | 0     | 3     | 1     | \n",
       "| Toyota Corona | 21.5  | 4     | 120.1 |  97   | 3.70  | 2.465 | 20.01 | 1     | 0     | 3     | 1     | \n",
       "| Datsun 710 | 22.8  | 4     | 108.0 |  93   | 3.85  | 2.320 | 18.61 | 1     | 1     | 4     | 1     | \n",
       "| Fiat X1-9 | 27.3  | 4     |  79.0 |  66   | 4.08  | 1.935 | 18.90 | 1     | 1     | 4     | 1     | \n",
       "| Fiat 128 | 32.4  | 4     |  78.7 |  66   | 4.08  | 2.200 | 19.47 | 1     | 1     | 4     | 1     | \n",
       "| Toyota Corolla | 33.9  | 4     |  71.1 |  65   | 4.22  | 1.835 | 19.90 | 1     | 1     | 4     | 1     | \n",
       "\n",
       "\n"
      ],
      "text/plain": [
       "               mpg  cyl disp  hp  drat wt    qsec  vs am gear carb\n",
       "Valiant        18.1 6   225.0 105 2.76 3.460 20.22 1  0  3    1   \n",
       "Hornet 4 Drive 21.4 6   258.0 110 3.08 3.215 19.44 1  0  3    1   \n",
       "Toyota Corona  21.5 4   120.1  97 3.70 2.465 20.01 1  0  3    1   \n",
       "Datsun 710     22.8 4   108.0  93 3.85 2.320 18.61 1  1  4    1   \n",
       "Fiat X1-9      27.3 4    79.0  66 4.08 1.935 18.90 1  1  4    1   \n",
       "Fiat 128       32.4 4    78.7  66 4.08 2.200 19.47 1  1  4    1   \n",
       "Toyota Corolla 33.9 4    71.1  65 4.22 1.835 19.90 1  1  4    1   "
      ]
     },
     "metadata": {},
     "output_type": "display_data"
    }
   ],
   "source": [
    "library(sqldf)\n",
    "# python也能做到，pandas.read_sql\n",
    "newdf <- sqldf('select * from mtcars where carb=1 order by mpg', row.names=TRUE)\n",
    "newdf"
   ]
  },
  {
   "cell_type": "code",
   "execution_count": null,
   "metadata": {},
   "outputs": [],
   "source": []
  }
 ],
 "metadata": {
  "kernelspec": {
   "display_name": "R",
   "language": "R",
   "name": "ir"
  },
  "language_info": {
   "codemirror_mode": "r",
   "file_extension": ".r",
   "mimetype": "text/x-r-source",
   "name": "R",
   "pygments_lexer": "r",
   "version": "3.4.3"
  }
 },
 "nbformat": 4,
 "nbformat_minor": 2
}
